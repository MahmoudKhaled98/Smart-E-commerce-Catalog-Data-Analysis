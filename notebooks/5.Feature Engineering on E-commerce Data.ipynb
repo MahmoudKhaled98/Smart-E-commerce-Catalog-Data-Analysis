{
 "cells": [
  {
   "cell_type": "markdown",
   "metadata": {
    "application/vnd.databricks.v1+cell": {
     "cellMetadata": {
      "byteLimit": 2048000,
      "rowLimit": 10000
     },
     "inputWidgets": {},
     "nuid": "8bd86040-70c5-4036-962e-7f98b6b21bf6",
     "showTitle": false,
     "tableResultSettingsMap": {},
     "title": ""
    }
   },
   "source": [
    "# Smart E-commerce Catalog Data Analysis\n",
    "##5. Feature Engineering on E-commerce Data"
   ]
  },
  {
   "cell_type": "markdown",
   "metadata": {
    "application/vnd.databricks.v1+cell": {
     "cellMetadata": {
      "byteLimit": 2048000,
      "rowLimit": 10000
     },
     "inputWidgets": {},
     "nuid": "acffa8c2-9ae6-44bc-bd9a-af82d959d778",
     "showTitle": false,
     "tableResultSettingsMap": {},
     "title": ""
    }
   },
   "source": [
    "##1. Importing the dataset"
   ]
  },
  {
   "cell_type": "code",
   "execution_count": 0,
   "metadata": {
    "application/vnd.databricks.v1+cell": {
     "cellMetadata": {
      "byteLimit": 2048000,
      "rowLimit": 10000
     },
     "inputWidgets": {},
     "nuid": "b2d53581-f26b-4c97-a544-3a57abb677b9",
     "showTitle": false,
     "tableResultSettingsMap": {},
     "title": ""
    }
   },
   "outputs": [
    {
     "output_type": "execute_result",
     "data": {
      "text/html": [
       "<div>\n",
       "<style scoped>\n",
       "    .dataframe tbody tr th:only-of-type {\n",
       "        vertical-align: middle;\n",
       "    }\n",
       "\n",
       "    .dataframe tbody tr th {\n",
       "        vertical-align: top;\n",
       "    }\n",
       "\n",
       "    .dataframe thead th {\n",
       "        text-align: right;\n",
       "    }\n",
       "</style>\n",
       "<table border=\"1\" class=\"dataframe\">\n",
       "  <thead>\n",
       "    <tr style=\"text-align: right;\">\n",
       "      <th></th>\n",
       "      <th>product_id</th>\n",
       "      <th>product_name</th>\n",
       "      <th>category</th>\n",
       "      <th>price</th>\n",
       "      <th>stock</th>\n",
       "      <th>rating</th>\n",
       "      <th>launch_date</th>\n",
       "      <th>description</th>\n",
       "      <th>is_active</th>\n",
       "    </tr>\n",
       "  </thead>\n",
       "  <tbody>\n",
       "    <tr>\n",
       "      <th>0</th>\n",
       "      <td>251</td>\n",
       "      <td>Product 251</td>\n",
       "      <td>Home</td>\n",
       "      <td>474.100006</td>\n",
       "      <td>62</td>\n",
       "      <td>1.8</td>\n",
       "      <td>2024-08-21</td>\n",
       "      <td>This is a great product.</td>\n",
       "      <td>True</td>\n",
       "    </tr>\n",
       "    <tr>\n",
       "      <th>1</th>\n",
       "      <td>252</td>\n",
       "      <td>Product 252</td>\n",
       "      <td>Electronics</td>\n",
       "      <td>151.419998</td>\n",
       "      <td>100</td>\n",
       "      <td>1.4</td>\n",
       "      <td>2024-01-28</td>\n",
       "      <td>This is a great product.</td>\n",
       "      <td>True</td>\n",
       "    </tr>\n",
       "    <tr>\n",
       "      <th>2</th>\n",
       "      <td>253</td>\n",
       "      <td>Product 253</td>\n",
       "      <td>Home</td>\n",
       "      <td>438.809998</td>\n",
       "      <td>79</td>\n",
       "      <td>1.5</td>\n",
       "      <td>2024-04-21</td>\n",
       "      <td>This is a great product.</td>\n",
       "      <td>True</td>\n",
       "    </tr>\n",
       "    <tr>\n",
       "      <th>3</th>\n",
       "      <td>254</td>\n",
       "      <td>Product 254</td>\n",
       "      <td>Clothing</td>\n",
       "      <td>94.519997</td>\n",
       "      <td>88</td>\n",
       "      <td>4.1</td>\n",
       "      <td>2024-08-07</td>\n",
       "      <td>This is a great product.</td>\n",
       "      <td>False</td>\n",
       "    </tr>\n",
       "    <tr>\n",
       "      <th>4</th>\n",
       "      <td>255</td>\n",
       "      <td>Product 255</td>\n",
       "      <td>Electronics</td>\n",
       "      <td>208.380005</td>\n",
       "      <td>86</td>\n",
       "      <td>3.9</td>\n",
       "      <td>2024-03-17</td>\n",
       "      <td>This is a great product.</td>\n",
       "      <td>False</td>\n",
       "    </tr>\n",
       "    <tr>\n",
       "      <th>5</th>\n",
       "      <td>256</td>\n",
       "      <td>Product 256</td>\n",
       "      <td>Books</td>\n",
       "      <td>120.830002</td>\n",
       "      <td>30</td>\n",
       "      <td>2.2</td>\n",
       "      <td>2024-03-04</td>\n",
       "      <td>This is a great product.</td>\n",
       "      <td>True</td>\n",
       "    </tr>\n",
       "    <tr>\n",
       "      <th>6</th>\n",
       "      <td>257</td>\n",
       "      <td>Product 257</td>\n",
       "      <td>Home</td>\n",
       "      <td>340.760010</td>\n",
       "      <td>73</td>\n",
       "      <td>4.9</td>\n",
       "      <td>2024-03-08</td>\n",
       "      <td>This is a great product.</td>\n",
       "      <td>False</td>\n",
       "    </tr>\n",
       "    <tr>\n",
       "      <th>7</th>\n",
       "      <td>258</td>\n",
       "      <td>Product 258</td>\n",
       "      <td>Books</td>\n",
       "      <td>253.940002</td>\n",
       "      <td>53</td>\n",
       "      <td>4.9</td>\n",
       "      <td>2024-07-20</td>\n",
       "      <td>This is a great product.</td>\n",
       "      <td>True</td>\n",
       "    </tr>\n",
       "    <tr>\n",
       "      <th>8</th>\n",
       "      <td>259</td>\n",
       "      <td>Product 259</td>\n",
       "      <td>Home</td>\n",
       "      <td>30.830000</td>\n",
       "      <td>61</td>\n",
       "      <td>4.5</td>\n",
       "      <td>2024-01-21</td>\n",
       "      <td>This is a great product.</td>\n",
       "      <td>True</td>\n",
       "    </tr>\n",
       "    <tr>\n",
       "      <th>9</th>\n",
       "      <td>260</td>\n",
       "      <td>Product 260</td>\n",
       "      <td>Toys</td>\n",
       "      <td>426.329987</td>\n",
       "      <td>36</td>\n",
       "      <td>1.3</td>\n",
       "      <td>2024-08-09</td>\n",
       "      <td>This is a great product.</td>\n",
       "      <td>False</td>\n",
       "    </tr>\n",
       "  </tbody>\n",
       "</table>\n",
       "</div>"
      ],
      "text/plain": [
       "   product_id product_name  ...               description  is_active\n",
       "0         251  Product 251  ...  This is a great product.       True\n",
       "1         252  Product 252  ...  This is a great product.       True\n",
       "2         253  Product 253  ...  This is a great product.       True\n",
       "3         254  Product 254  ...  This is a great product.      False\n",
       "4         255  Product 255  ...  This is a great product.      False\n",
       "5         256  Product 256  ...  This is a great product.       True\n",
       "6         257  Product 257  ...  This is a great product.      False\n",
       "7         258  Product 258  ...  This is a great product.       True\n",
       "8         259  Product 259  ...  This is a great product.       True\n",
       "9         260  Product 260  ...  This is a great product.      False\n",
       "\n",
       "[10 rows x 9 columns]"
      ]
     },
     "execution_count": 30,
     "metadata": {},
     "output_type": "execute_result"
    }
   ],
   "source": [
    "#import the dataset\n",
    "\n",
    "import pandas as pd \n",
    "product_df = spark.sql(\"SELECT * FROM product_db.product_table\")\n",
    "product_pd_df = product_df.toPandas()\n",
    "product_pd_df.head(10)"
   ]
  },
  {
   "cell_type": "markdown",
   "metadata": {
    "application/vnd.databricks.v1+cell": {
     "cellMetadata": {
      "byteLimit": 2048000,
      "rowLimit": 10000
     },
     "inputWidgets": {},
     "nuid": "3663a9bc-bf45-4532-8f31-007d5c090949",
     "showTitle": false,
     "tableResultSettingsMap": {},
     "title": ""
    }
   },
   "source": [
    "###2. Creating \"in_demand\" Feature\n",
    "\n",
    "####Creating an \"in_demand\" feature from the rating column is a sensible approach in e-commerce data, as ratings often reflect product popularity and customer satisfaction, which can correlate with demand\n",
    "\n",
    "#####Using a threshold of 3.0 or 3.5 seems most appropriate given the data I have, as it balances capturing products that perform reasonably well while excluding those that are likely not meeting customer expectations.\n",
    "\n",
    "- Threshold of 3.0: This is a balanced choice, allowing to classify products that are performing reasonably well while still filtering out those with very low ratings.\n",
    "\n",
    "- Threshold of 3.5: This might be ideal if I want to be more selective about what constitutes \"in demand,\" potentially focusing on higher-quality offerings. 'Not in this case'\n",
    "\n",
    "- Choosing the Threshold: So,I will choose a threshold of `3.0`,to classify products that are performing reasonably well while still filtering out those with very low ratings.\n",
    "\n",
    "- Implementation: Adding the in_demand feature to the dataset."
   ]
  },
  {
   "cell_type": "code",
   "execution_count": 0,
   "metadata": {
    "application/vnd.databricks.v1+cell": {
     "cellMetadata": {
      "byteLimit": 2048000,
      "rowLimit": 10000
     },
     "inputWidgets": {},
     "nuid": "1a5514af-10c3-4173-b2cd-15bdb258e824",
     "showTitle": false,
     "tableResultSettingsMap": {},
     "title": ""
    }
   },
   "outputs": [],
   "source": [
    "#Implement the in_demand feature based on \"3.0\" threshold\n",
    "product_pd_df['in_demand'] = (product_pd_df['rating'] >= 3.0).astype(int)"
   ]
  },
  {
   "cell_type": "markdown",
   "metadata": {
    "application/vnd.databricks.v1+cell": {
     "cellMetadata": {
      "byteLimit": 2048000,
      "rowLimit": 10000
     },
     "inputWidgets": {},
     "nuid": "8151b937-b413-4aaf-a307-f7a2ba527bae",
     "showTitle": false,
     "tableResultSettingsMap": {},
     "title": ""
    }
   },
   "source": [
    "###3. Creating \"rating_category\" Feature\n",
    "####Creating bins for the ratings to categorize products into different levels of performance (low, medium, high).\n"
   ]
  },
  {
   "cell_type": "code",
   "execution_count": 0,
   "metadata": {
    "application/vnd.databricks.v1+cell": {
     "cellMetadata": {
      "byteLimit": 2048000,
      "rowLimit": 10000
     },
     "inputWidgets": {},
     "nuid": "e255a9c3-57a8-4e83-a55a-93640f71f1d6",
     "showTitle": false,
     "tableResultSettingsMap": {},
     "title": ""
    }
   },
   "outputs": [],
   "source": [
    "# Categorize 'rating' values into 'Low', 'Medium', or 'High' based on defined bins\n",
    "\n",
    "bins = [0, 2.0, 3.0, 4.0, 5.0]\n",
    "labels = ['Low', 'Medium', 'High','Very_High']\n",
    "product_pd_df['rating_category'] = pd.cut(product_pd_df['rating'], bins=bins, labels=labels)\n"
   ]
  },
  {
   "cell_type": "markdown",
   "metadata": {
    "application/vnd.databricks.v1+cell": {
     "cellMetadata": {
      "byteLimit": 2048000,
      "rowLimit": 10000
     },
     "inputWidgets": {},
     "nuid": "c6477983-3216-4be6-8b67-852ca0152c11",
     "showTitle": false,
     "tableResultSettingsMap": {},
     "title": ""
    }
   },
   "source": [
    "###4. Handling Categorical Variables\n",
    "One-Hot Encoding:\n",
    "\n",
    "- Categorical variables like `category`, must be convert to a format suitable for modeling."
   ]
  },
  {
   "cell_type": "code",
   "execution_count": 0,
   "metadata": {
    "application/vnd.databricks.v1+cell": {
     "cellMetadata": {
      "byteLimit": 2048000,
      "rowLimit": 10000
     },
     "inputWidgets": {},
     "nuid": "c9d338f2-139d-4017-9795-ec52fa35a75f",
     "showTitle": false,
     "tableResultSettingsMap": {},
     "title": ""
    }
   },
   "outputs": [],
   "source": [
    "# Convert specified categorical columns to dummy variables, dropping the first level to avoid multicollinearity\n",
    "\n",
    "product_pd_df = pd.get_dummies(product_pd_df, columns=['category', 'rating_category'], drop_first=True)"
   ]
  },
  {
   "cell_type": "markdown",
   "metadata": {
    "application/vnd.databricks.v1+cell": {
     "cellMetadata": {
      "byteLimit": 2048000,
      "rowLimit": 10000
     },
     "inputWidgets": {},
     "nuid": "360a0cb1-b255-474a-985e-485339a8f73d",
     "showTitle": false,
     "tableResultSettingsMap": {},
     "title": ""
    }
   },
   "source": []
  },
  {
   "cell_type": "markdown",
   "metadata": {
    "application/vnd.databricks.v1+cell": {
     "cellMetadata": {
      "byteLimit": 2048000,
      "rowLimit": 10000
     },
     "inputWidgets": {},
     "nuid": "01fab59b-40b3-48ae-866a-75e995caa147",
     "showTitle": false,
     "tableResultSettingsMap": {},
     "title": ""
    }
   },
   "source": [
    "###5. Saving the prepared data"
   ]
  },
  {
   "cell_type": "code",
   "execution_count": 0,
   "metadata": {
    "application/vnd.databricks.v1+cell": {
     "cellMetadata": {
      "byteLimit": 2048000,
      "rowLimit": 10000
     },
     "inputWidgets": {},
     "nuid": "c54fe65e-36b0-4152-bdd2-cb06842900c3",
     "showTitle": false,
     "tableResultSettingsMap": {},
     "title": ""
    }
   },
   "outputs": [
    {
     "output_type": "execute_result",
     "data": {
      "text/html": [
       "<div>\n",
       "<style scoped>\n",
       "    .dataframe tbody tr th:only-of-type {\n",
       "        vertical-align: middle;\n",
       "    }\n",
       "\n",
       "    .dataframe tbody tr th {\n",
       "        vertical-align: top;\n",
       "    }\n",
       "\n",
       "    .dataframe thead th {\n",
       "        text-align: right;\n",
       "    }\n",
       "</style>\n",
       "<table border=\"1\" class=\"dataframe\">\n",
       "  <thead>\n",
       "    <tr style=\"text-align: right;\">\n",
       "      <th></th>\n",
       "      <th>product_id</th>\n",
       "      <th>product_name</th>\n",
       "      <th>price</th>\n",
       "      <th>stock</th>\n",
       "      <th>rating</th>\n",
       "      <th>launch_date</th>\n",
       "      <th>description</th>\n",
       "      <th>is_active</th>\n",
       "      <th>in_demand</th>\n",
       "      <th>category_Clothing</th>\n",
       "      <th>category_Electronics</th>\n",
       "      <th>category_Home</th>\n",
       "      <th>category_Toys</th>\n",
       "      <th>rating_category_Medium</th>\n",
       "      <th>rating_category_High</th>\n",
       "      <th>rating_category_Very_High</th>\n",
       "    </tr>\n",
       "  </thead>\n",
       "  <tbody>\n",
       "    <tr>\n",
       "      <th>0</th>\n",
       "      <td>251</td>\n",
       "      <td>Product 251</td>\n",
       "      <td>474.100006</td>\n",
       "      <td>62</td>\n",
       "      <td>1.8</td>\n",
       "      <td>2024-08-21</td>\n",
       "      <td>This is a great product.</td>\n",
       "      <td>True</td>\n",
       "      <td>0</td>\n",
       "      <td>0</td>\n",
       "      <td>0</td>\n",
       "      <td>1</td>\n",
       "      <td>0</td>\n",
       "      <td>0</td>\n",
       "      <td>0</td>\n",
       "      <td>0</td>\n",
       "    </tr>\n",
       "    <tr>\n",
       "      <th>1</th>\n",
       "      <td>252</td>\n",
       "      <td>Product 252</td>\n",
       "      <td>151.419998</td>\n",
       "      <td>100</td>\n",
       "      <td>1.4</td>\n",
       "      <td>2024-01-28</td>\n",
       "      <td>This is a great product.</td>\n",
       "      <td>True</td>\n",
       "      <td>0</td>\n",
       "      <td>0</td>\n",
       "      <td>1</td>\n",
       "      <td>0</td>\n",
       "      <td>0</td>\n",
       "      <td>0</td>\n",
       "      <td>0</td>\n",
       "      <td>0</td>\n",
       "    </tr>\n",
       "    <tr>\n",
       "      <th>2</th>\n",
       "      <td>253</td>\n",
       "      <td>Product 253</td>\n",
       "      <td>438.809998</td>\n",
       "      <td>79</td>\n",
       "      <td>1.5</td>\n",
       "      <td>2024-04-21</td>\n",
       "      <td>This is a great product.</td>\n",
       "      <td>True</td>\n",
       "      <td>0</td>\n",
       "      <td>0</td>\n",
       "      <td>0</td>\n",
       "      <td>1</td>\n",
       "      <td>0</td>\n",
       "      <td>0</td>\n",
       "      <td>0</td>\n",
       "      <td>0</td>\n",
       "    </tr>\n",
       "    <tr>\n",
       "      <th>3</th>\n",
       "      <td>254</td>\n",
       "      <td>Product 254</td>\n",
       "      <td>94.519997</td>\n",
       "      <td>88</td>\n",
       "      <td>4.1</td>\n",
       "      <td>2024-08-07</td>\n",
       "      <td>This is a great product.</td>\n",
       "      <td>False</td>\n",
       "      <td>1</td>\n",
       "      <td>1</td>\n",
       "      <td>0</td>\n",
       "      <td>0</td>\n",
       "      <td>0</td>\n",
       "      <td>0</td>\n",
       "      <td>0</td>\n",
       "      <td>1</td>\n",
       "    </tr>\n",
       "    <tr>\n",
       "      <th>4</th>\n",
       "      <td>255</td>\n",
       "      <td>Product 255</td>\n",
       "      <td>208.380005</td>\n",
       "      <td>86</td>\n",
       "      <td>3.9</td>\n",
       "      <td>2024-03-17</td>\n",
       "      <td>This is a great product.</td>\n",
       "      <td>False</td>\n",
       "      <td>1</td>\n",
       "      <td>0</td>\n",
       "      <td>1</td>\n",
       "      <td>0</td>\n",
       "      <td>0</td>\n",
       "      <td>0</td>\n",
       "      <td>1</td>\n",
       "      <td>0</td>\n",
       "    </tr>\n",
       "    <tr>\n",
       "      <th>5</th>\n",
       "      <td>256</td>\n",
       "      <td>Product 256</td>\n",
       "      <td>120.830002</td>\n",
       "      <td>30</td>\n",
       "      <td>2.2</td>\n",
       "      <td>2024-03-04</td>\n",
       "      <td>This is a great product.</td>\n",
       "      <td>True</td>\n",
       "      <td>0</td>\n",
       "      <td>0</td>\n",
       "      <td>0</td>\n",
       "      <td>0</td>\n",
       "      <td>0</td>\n",
       "      <td>1</td>\n",
       "      <td>0</td>\n",
       "      <td>0</td>\n",
       "    </tr>\n",
       "    <tr>\n",
       "      <th>6</th>\n",
       "      <td>257</td>\n",
       "      <td>Product 257</td>\n",
       "      <td>340.760010</td>\n",
       "      <td>73</td>\n",
       "      <td>4.9</td>\n",
       "      <td>2024-03-08</td>\n",
       "      <td>This is a great product.</td>\n",
       "      <td>False</td>\n",
       "      <td>1</td>\n",
       "      <td>0</td>\n",
       "      <td>0</td>\n",
       "      <td>1</td>\n",
       "      <td>0</td>\n",
       "      <td>0</td>\n",
       "      <td>0</td>\n",
       "      <td>1</td>\n",
       "    </tr>\n",
       "    <tr>\n",
       "      <th>7</th>\n",
       "      <td>258</td>\n",
       "      <td>Product 258</td>\n",
       "      <td>253.940002</td>\n",
       "      <td>53</td>\n",
       "      <td>4.9</td>\n",
       "      <td>2024-07-20</td>\n",
       "      <td>This is a great product.</td>\n",
       "      <td>True</td>\n",
       "      <td>1</td>\n",
       "      <td>0</td>\n",
       "      <td>0</td>\n",
       "      <td>0</td>\n",
       "      <td>0</td>\n",
       "      <td>0</td>\n",
       "      <td>0</td>\n",
       "      <td>1</td>\n",
       "    </tr>\n",
       "    <tr>\n",
       "      <th>8</th>\n",
       "      <td>259</td>\n",
       "      <td>Product 259</td>\n",
       "      <td>30.830000</td>\n",
       "      <td>61</td>\n",
       "      <td>4.5</td>\n",
       "      <td>2024-01-21</td>\n",
       "      <td>This is a great product.</td>\n",
       "      <td>True</td>\n",
       "      <td>1</td>\n",
       "      <td>0</td>\n",
       "      <td>0</td>\n",
       "      <td>1</td>\n",
       "      <td>0</td>\n",
       "      <td>0</td>\n",
       "      <td>0</td>\n",
       "      <td>1</td>\n",
       "    </tr>\n",
       "    <tr>\n",
       "      <th>9</th>\n",
       "      <td>260</td>\n",
       "      <td>Product 260</td>\n",
       "      <td>426.329987</td>\n",
       "      <td>36</td>\n",
       "      <td>1.3</td>\n",
       "      <td>2024-08-09</td>\n",
       "      <td>This is a great product.</td>\n",
       "      <td>False</td>\n",
       "      <td>0</td>\n",
       "      <td>0</td>\n",
       "      <td>0</td>\n",
       "      <td>0</td>\n",
       "      <td>1</td>\n",
       "      <td>0</td>\n",
       "      <td>0</td>\n",
       "      <td>0</td>\n",
       "    </tr>\n",
       "  </tbody>\n",
       "</table>\n",
       "</div>"
      ],
      "text/plain": [
       "   product_id product_name  ...  rating_category_High  rating_category_Very_High\n",
       "0         251  Product 251  ...                     0                          0\n",
       "1         252  Product 252  ...                     0                          0\n",
       "2         253  Product 253  ...                     0                          0\n",
       "3         254  Product 254  ...                     0                          1\n",
       "4         255  Product 255  ...                     1                          0\n",
       "5         256  Product 256  ...                     0                          0\n",
       "6         257  Product 257  ...                     0                          1\n",
       "7         258  Product 258  ...                     0                          1\n",
       "8         259  Product 259  ...                     0                          1\n",
       "9         260  Product 260  ...                     0                          0\n",
       "\n",
       "[10 rows x 16 columns]"
      ]
     },
     "execution_count": 34,
     "metadata": {},
     "output_type": "execute_result"
    }
   ],
   "source": [
    "#Check the dataset before saving\n",
    "# Convert uint8 columns to int64 in pandas DataFrame\n",
    "product_pd_df.dropna(inplace=True)\n",
    "product_pd_df.head(10)"
   ]
  },
  {
   "cell_type": "code",
   "execution_count": 0,
   "metadata": {
    "application/vnd.databricks.v1+cell": {
     "cellMetadata": {
      "byteLimit": 2048000,
      "rowLimit": 10000
     },
     "inputWidgets": {},
     "nuid": "a780b141-8474-4266-8160-fb5ac7520e72",
     "showTitle": false,
     "tableResultSettingsMap": {},
     "title": ""
    }
   },
   "outputs": [
    {
     "output_type": "stream",
     "name": "stderr",
     "output_type": "stream",
     "text": [
      "/databricks/spark/python/pyspark/sql/pandas/conversion.py:477: UserWarning: createDataFrame attempted Arrow optimization because 'spark.sql.execution.arrow.pyspark.enabled' is set to true; however, failed by the reason below:\n  Unable to convert the field category_Clothing. If this column is not necessary, you may consider dropping it or converting to primitive type before the conversion.\nDirect cause: [UNSUPPORTED_DATA_TYPE_FOR_ARROW_CONVERSION] uint8 is not supported in conversion to Arrow.\nAttempting non-optimization as 'spark.sql.execution.arrow.pyspark.fallback.enabled' is set to true.\n  warn(msg)\n"
     ]
    }
   ],
   "source": [
    "# Import the SparkSession from the PySpark library\n",
    "from pyspark.sql import SparkSession\n",
    "\n",
    "# Initialize a Spark session or retrieve an existing one\n",
    "spark = SparkSession.builder.getOrCreate()\n",
    "\n",
    "# Convert a Pandas DataFrame (product_pd_df) to a Spark DataFrame\n",
    "spark_df = spark.createDataFrame(product_pd_df)\n",
    "\n",
    "# Write the Spark DataFrame to a Delta table in overwrite mode\n",
    "# - format(\"delta\"): Specifies Delta format to enable ACID transactions and time-travel features\n",
    "# - mode(\"overwrite\"): Overwrites any existing data in the specified table location\n",
    "# - saveAsTable(\"product_db.products_data_prepared\"): Saves the data to a table in the 'product_db' database with the name 'products_data_prepared'\n",
    "spark_df.write.format(\"delta\").mode(\"overwrite\").saveAsTable(\"product_db.products_data_prepared\")\n"
   ]
  }
 ],
 "metadata": {
  "application/vnd.databricks.v1+notebook": {
   "dashboards": [],
   "environmentMetadata": null,
   "language": "python",
   "notebookMetadata": {
    "pythonIndentUnit": 4
   },
   "notebookName": "5.Feature Engineering on E-commerce Data",
   "widgets": {}
  }
 },
 "nbformat": 4,
 "nbformat_minor": 0
}
