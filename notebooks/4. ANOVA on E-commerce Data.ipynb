{
 "cells": [
  {
   "cell_type": "markdown",
   "metadata": {
    "application/vnd.databricks.v1+cell": {
     "cellMetadata": {},
     "inputWidgets": {},
     "nuid": "14efb53b-bd74-49b6-8224-f2a20ee25c4c",
     "showTitle": false,
     "tableResultSettingsMap": {},
     "title": ""
    }
   },
   "source": [
    "# Smart E-commerce Catalog Data Analysis"
   ]
  },
  {
   "cell_type": "markdown",
   "metadata": {
    "application/vnd.databricks.v1+cell": {
     "cellMetadata": {
      "byteLimit": 2048000,
      "rowLimit": 10000
     },
     "inputWidgets": {},
     "nuid": "1b3ac000-3390-4c69-9c82-be8846cdeb02",
     "showTitle": true,
     "tableResultSettingsMap": {},
     "title": ""
    },
    "jupyter": {
     "outputs_hidden": true
    }
   },
   "source": [
    "##4. ANOVA on E-commerce Data\n",
    "\n",
    "### Comparing Ratings Across Categories\n",
    "\n",
    "#### We can use ANOVA to determine if there are statistically significant differences in average ratings among different product categories\n",
    "\n",
    "**Hypothesis:**\n",
    "\n",
    "- **Null Hypothesis `(H0)`: There is no difference in average ratings across categories.**\n",
    "\n",
    "- **Alternative Hypothesis (H1): At least one category has a different average rating.**\n",
    "\n",
    "**Significance Level** :`5%, '0.05'`"
   ]
  },
  {
   "cell_type": "markdown",
   "metadata": {
    "application/vnd.databricks.v1+cell": {
     "cellMetadata": {},
     "inputWidgets": {},
     "nuid": "2ca6a33a-3118-4a88-89ae-d831a6be61c6",
     "showTitle": false,
     "tableResultSettingsMap": {},
     "title": ""
    }
   },
   "source": [
    "####1. Importing the dataset\n"
   ]
  },
  {
   "cell_type": "code",
   "execution_count": 0,
   "metadata": {
    "application/vnd.databricks.v1+cell": {
     "cellMetadata": {
      "byteLimit": 2048000,
      "rowLimit": 10000
     },
     "inputWidgets": {},
     "nuid": "c08af86f-5a77-4329-8015-0e47d6f6606a",
     "showTitle": false,
     "tableResultSettingsMap": {},
     "title": ""
    }
   },
   "outputs": [
    {
     "output_type": "execute_result",
     "data": {
      "text/html": [
       "<div>\n",
       "<style scoped>\n",
       "    .dataframe tbody tr th:only-of-type {\n",
       "        vertical-align: middle;\n",
       "    }\n",
       "\n",
       "    .dataframe tbody tr th {\n",
       "        vertical-align: top;\n",
       "    }\n",
       "\n",
       "    .dataframe thead th {\n",
       "        text-align: right;\n",
       "    }\n",
       "</style>\n",
       "<table border=\"1\" class=\"dataframe\">\n",
       "  <thead>\n",
       "    <tr style=\"text-align: right;\">\n",
       "      <th></th>\n",
       "      <th>product_id</th>\n",
       "      <th>product_name</th>\n",
       "      <th>category</th>\n",
       "      <th>price</th>\n",
       "      <th>stock</th>\n",
       "      <th>rating</th>\n",
       "      <th>launch_date</th>\n",
       "      <th>description</th>\n",
       "      <th>is_active</th>\n",
       "    </tr>\n",
       "  </thead>\n",
       "  <tbody>\n",
       "    <tr>\n",
       "      <th>0</th>\n",
       "      <td>501</td>\n",
       "      <td>Product 501</td>\n",
       "      <td>Electronics</td>\n",
       "      <td>267.600006</td>\n",
       "      <td>1</td>\n",
       "      <td>3.4</td>\n",
       "      <td>2024-08-06</td>\n",
       "      <td>This is a great product.</td>\n",
       "      <td>False</td>\n",
       "    </tr>\n",
       "    <tr>\n",
       "      <th>1</th>\n",
       "      <td>502</td>\n",
       "      <td>Product 502</td>\n",
       "      <td>Home</td>\n",
       "      <td>362.600006</td>\n",
       "      <td>80</td>\n",
       "      <td>4.0</td>\n",
       "      <td>2024-04-02</td>\n",
       "      <td>This is a great product.</td>\n",
       "      <td>False</td>\n",
       "    </tr>\n",
       "    <tr>\n",
       "      <th>2</th>\n",
       "      <td>503</td>\n",
       "      <td>Product 503</td>\n",
       "      <td>Clothing</td>\n",
       "      <td>47.910000</td>\n",
       "      <td>12</td>\n",
       "      <td>1.6</td>\n",
       "      <td>2024-08-27</td>\n",
       "      <td>This is a great product.</td>\n",
       "      <td>False</td>\n",
       "    </tr>\n",
       "    <tr>\n",
       "      <th>3</th>\n",
       "      <td>504</td>\n",
       "      <td>Product 504</td>\n",
       "      <td>Home</td>\n",
       "      <td>481.809998</td>\n",
       "      <td>40</td>\n",
       "      <td>4.2</td>\n",
       "      <td>2024-06-25</td>\n",
       "      <td>This is a great product.</td>\n",
       "      <td>False</td>\n",
       "    </tr>\n",
       "    <tr>\n",
       "      <th>4</th>\n",
       "      <td>505</td>\n",
       "      <td>Product 505</td>\n",
       "      <td>Electronics</td>\n",
       "      <td>127.839996</td>\n",
       "      <td>76</td>\n",
       "      <td>3.4</td>\n",
       "      <td>2023-12-23</td>\n",
       "      <td>This is a great product.</td>\n",
       "      <td>False</td>\n",
       "    </tr>\n",
       "    <tr>\n",
       "      <th>5</th>\n",
       "      <td>506</td>\n",
       "      <td>Product 506</td>\n",
       "      <td>Electronics</td>\n",
       "      <td>424.709991</td>\n",
       "      <td>84</td>\n",
       "      <td>4.5</td>\n",
       "      <td>2024-07-16</td>\n",
       "      <td>This is a great product.</td>\n",
       "      <td>True</td>\n",
       "    </tr>\n",
       "    <tr>\n",
       "      <th>6</th>\n",
       "      <td>507</td>\n",
       "      <td>Product 507</td>\n",
       "      <td>Books</td>\n",
       "      <td>151.289993</td>\n",
       "      <td>6</td>\n",
       "      <td>4.1</td>\n",
       "      <td>2024-06-29</td>\n",
       "      <td>This is a great product.</td>\n",
       "      <td>False</td>\n",
       "    </tr>\n",
       "    <tr>\n",
       "      <th>7</th>\n",
       "      <td>508</td>\n",
       "      <td>Product 508</td>\n",
       "      <td>Books</td>\n",
       "      <td>60.810001</td>\n",
       "      <td>63</td>\n",
       "      <td>3.6</td>\n",
       "      <td>2024-09-23</td>\n",
       "      <td>This is a great product.</td>\n",
       "      <td>True</td>\n",
       "    </tr>\n",
       "    <tr>\n",
       "      <th>8</th>\n",
       "      <td>509</td>\n",
       "      <td>Product 509</td>\n",
       "      <td>Home</td>\n",
       "      <td>467.290009</td>\n",
       "      <td>16</td>\n",
       "      <td>2.5</td>\n",
       "      <td>2024-01-12</td>\n",
       "      <td>This is a great product.</td>\n",
       "      <td>False</td>\n",
       "    </tr>\n",
       "    <tr>\n",
       "      <th>9</th>\n",
       "      <td>510</td>\n",
       "      <td>Product 510</td>\n",
       "      <td>Home</td>\n",
       "      <td>275.450012</td>\n",
       "      <td>22</td>\n",
       "      <td>4.1</td>\n",
       "      <td>2024-09-22</td>\n",
       "      <td>This is a great product.</td>\n",
       "      <td>True</td>\n",
       "    </tr>\n",
       "  </tbody>\n",
       "</table>\n",
       "</div>"
      ],
      "text/plain": [
       "   product_id product_name  ...               description  is_active\n",
       "0         501  Product 501  ...  This is a great product.      False\n",
       "1         502  Product 502  ...  This is a great product.      False\n",
       "2         503  Product 503  ...  This is a great product.      False\n",
       "3         504  Product 504  ...  This is a great product.      False\n",
       "4         505  Product 505  ...  This is a great product.      False\n",
       "5         506  Product 506  ...  This is a great product.       True\n",
       "6         507  Product 507  ...  This is a great product.      False\n",
       "7         508  Product 508  ...  This is a great product.       True\n",
       "8         509  Product 509  ...  This is a great product.      False\n",
       "9         510  Product 510  ...  This is a great product.       True\n",
       "\n",
       "[10 rows x 9 columns]"
      ]
     },
     "execution_count": 2,
     "metadata": {},
     "output_type": "execute_result"
    }
   ],
   "source": [
    "import pandas as pd \n",
    "product_df = spark.sql(\"SELECT * FROM product_db.product_table\")\n",
    "product_pd_df = product_df.toPandas()\n",
    "product_pd_df.head(10)"
   ]
  },
  {
   "cell_type": "markdown",
   "metadata": {
    "application/vnd.databricks.v1+cell": {
     "cellMetadata": {},
     "inputWidgets": {},
     "nuid": "cc932e42-bb52-4a01-b4de-66694b20c82e",
     "showTitle": false,
     "tableResultSettingsMap": {},
     "title": ""
    }
   },
   "source": [
    "####2. Checking Data Types and Clean Up\n",
    "- Converting 'category' to a categorical type if it isn't already\n",
    "- Dropping rows with missing ratings\n"
   ]
  },
  {
   "cell_type": "code",
   "execution_count": 0,
   "metadata": {
    "application/vnd.databricks.v1+cell": {
     "cellMetadata": {
      "byteLimit": 2048000,
      "rowLimit": 10000
     },
     "inputWidgets": {},
     "nuid": "4959c8e3-8f7f-4e08-890b-dab5b7ea3fe6",
     "showTitle": false,
     "tableResultSettingsMap": {},
     "title": ""
    }
   },
   "outputs": [],
   "source": [
    "# Convert 'category' to a categorical type if it isn't already\n",
    "product_pd_df['category'] = product_pd_df['category'].astype('category')\n",
    "\n",
    "# Drop rows with missing ratings\n",
    "product_pd_df = product_pd_df[product_pd_df['rating'].notnull()]"
   ]
  },
  {
   "cell_type": "markdown",
   "metadata": {
    "application/vnd.databricks.v1+cell": {
     "cellMetadata": {},
     "inputWidgets": {},
     "nuid": "c2839e85-1238-44c0-b60a-8c9d7a01d12b",
     "showTitle": false,
     "tableResultSettingsMap": {},
     "title": ""
    }
   },
   "source": [
    "####3. Performing ANOVA\n",
    "- fitting an ANOVA model to compare ratings across categories"
   ]
  },
  {
   "cell_type": "code",
   "execution_count": 0,
   "metadata": {
    "application/vnd.databricks.v1+cell": {
     "cellMetadata": {
      "byteLimit": 2048000,
      "rowLimit": 10000
     },
     "inputWidgets": {},
     "nuid": "e3701936-111c-4aef-b416-e9c352bd056b",
     "showTitle": false,
     "tableResultSettingsMap": {},
     "title": ""
    }
   },
   "outputs": [
    {
     "output_type": "display_data",
     "data": {
      "application/vnd.jupyter.widget-view+json": {
       "model_id": "a6c9e1e6bb8f4adc9c4ffca64887a3ce",
       "version_major": 2,
       "version_minor": 0
      },
      "text/plain": [
       "Uploading artifacts:   0%|          | 0/9 [00:00<?, ?it/s]"
      ]
     },
     "metadata": {},
     "output_type": "display_data"
    },
    {
     "output_type": "execute_result",
     "data": {
      "text/html": [
       "<div>\n",
       "<style scoped>\n",
       "    .dataframe tbody tr th:only-of-type {\n",
       "        vertical-align: middle;\n",
       "    }\n",
       "\n",
       "    .dataframe tbody tr th {\n",
       "        vertical-align: top;\n",
       "    }\n",
       "\n",
       "    .dataframe thead th {\n",
       "        text-align: right;\n",
       "    }\n",
       "</style>\n",
       "<table border=\"1\" class=\"dataframe\">\n",
       "  <thead>\n",
       "    <tr style=\"text-align: right;\">\n",
       "      <th></th>\n",
       "      <th>sum_sq</th>\n",
       "      <th>df</th>\n",
       "      <th>F</th>\n",
       "      <th>PR(&gt;F)</th>\n",
       "    </tr>\n",
       "  </thead>\n",
       "  <tbody>\n",
       "    <tr>\n",
       "      <th>C(category)</th>\n",
       "      <td>13.019679</td>\n",
       "      <td>4.0</td>\n",
       "      <td>2.38574</td>\n",
       "      <td>0.049603</td>\n",
       "    </tr>\n",
       "    <tr>\n",
       "      <th>Residual</th>\n",
       "      <td>1357.501428</td>\n",
       "      <td>995.0</td>\n",
       "      <td>NaN</td>\n",
       "      <td>NaN</td>\n",
       "    </tr>\n",
       "  </tbody>\n",
       "</table>\n",
       "</div>"
      ],
      "text/plain": [
       "                  sum_sq     df        F    PR(>F)\n",
       "C(category)    13.019679    4.0  2.38574  0.049603\n",
       "Residual     1357.501428  995.0      NaN       NaN"
      ]
     },
     "execution_count": 7,
     "metadata": {},
     "output_type": "execute_result"
    }
   ],
   "source": [
    "import statsmodels.api as sm\n",
    "from statsmodels.formula.api import ols\n",
    "\n",
    "# Fit the ANOVA model\n",
    "model = ols('rating ~ C(category)', data=product_pd_df).fit()\n",
    "anova_table = sm.stats.anova_lm(model, typ=2)\n",
    "\n",
    "# Display the ANOVA table\n",
    "anova_table\n"
   ]
  },
  {
   "cell_type": "markdown",
   "metadata": {
    "application/vnd.databricks.v1+cell": {
     "cellMetadata": {},
     "inputWidgets": {},
     "nuid": "d0c4c2d3-7957-4a16-8e86-62a3f348c33d",
     "showTitle": false,
     "tableResultSettingsMap": {},
     "title": ""
    }
   },
   "source": [
    "- The P-value is almost 0.049603"
   ]
  },
  {
   "cell_type": "markdown",
   "metadata": {
    "application/vnd.databricks.v1+cell": {
     "cellMetadata": {},
     "inputWidgets": {},
     "nuid": "f9d07d78-a8dd-47eb-8792-a4d41915b7b1",
     "showTitle": false,
     "tableResultSettingsMap": {},
     "title": ""
    }
   },
   "source": [
    "####4.Conducting Post-Hoc Analysis:\n",
    "\n",
    "Since the ANOVA is near to 5%, performing post-hoc tests (Tukey's HSD) can help identify specific groups that differ. This might clarify whether the differences are substantial or negligible."
   ]
  },
  {
   "cell_type": "code",
   "execution_count": 0,
   "metadata": {
    "application/vnd.databricks.v1+cell": {
     "cellMetadata": {
      "byteLimit": 2048000,
      "rowLimit": 10000
     },
     "inputWidgets": {},
     "nuid": "8de10b8f-ad15-45e0-a966-0a59291ffe08",
     "showTitle": false,
     "tableResultSettingsMap": {},
     "title": ""
    }
   },
   "outputs": [
    {
     "output_type": "stream",
     "name": "stdout",
     "output_type": "stream",
     "text": [
      "     Multiple Comparison of Means - Tukey HSD, FWER=0.05     \n=============================================================\n   group1      group2   meandiff p-adj   lower  upper  reject\n-------------------------------------------------------------\n      Books    Clothing  -0.2308 0.2869 -0.5528 0.0911  False\n      Books Electronics  -0.0949 0.9253 -0.4122 0.2224  False\n      Books        Home  -0.2867 0.0978 -0.6035 0.0302  False\n      Books        Toys  -0.2819 0.1027  -0.596 0.0323  False\n   Clothing Electronics   0.1359 0.7829 -0.1887 0.4606  False\n   Clothing        Home  -0.0558   0.99 -0.3801 0.2684  False\n   Clothing        Toys   -0.051 0.9926 -0.3726 0.2706  False\nElectronics        Home  -0.1917 0.4724 -0.5114 0.1279  False\nElectronics        Toys  -0.1869 0.4899 -0.5038 0.1299  False\n       Home        Toys   0.0048    1.0 -0.3117 0.3213  False\n-------------------------------------------------------------\n"
     ]
    }
   ],
   "source": [
    "from statsmodels.stats.multicomp import pairwise_tukeyhsd\n",
    "\n",
    "# Conduct Tukey's HSD test\n",
    "tukey_results = pairwise_tukeyhsd(endog=product_pd_df['rating'], groups=product_pd_df['category'], alpha=0.05)\n",
    "\n",
    "# Display the results\n",
    "print(tukey_results)\n"
   ]
  },
  {
   "cell_type": "markdown",
   "metadata": {
    "application/vnd.databricks.v1+cell": {
     "cellMetadata": {},
     "inputWidgets": {},
     "nuid": "0717a54e-b5a2-46c2-8a4a-97411dbbf494",
     "showTitle": false,
     "tableResultSettingsMap": {},
     "title": ""
    }
   },
   "source": [
    "####5. Key Points to Interpret\n",
    "**Mean Differences (meandiff):**\n",
    "\n",
    "- The meandiff column shows the difference in means between the groups. For instance, the average rating for Books is approximately 0.23 lower than Clothing, and 0.29 lower than Home.\n",
    "\n",
    "**p-adjusted Values (p-adj):**\n",
    "\n",
    "- The p-adj values indicate the adjusted p-values for each comparison.\n",
    "\n",
    "- All comparisons have p-values greater than 0.05, meaning none of the differences are statistically significant at the 5% level.\n",
    "\n",
    "**Reject Column:**\n",
    "\n",
    "- The reject column indicates whether to reject the null hypothesis (True means there is a significant difference).\n",
    "\n",
    "- All values are False, which means there is no statistically significant difference in average ratings between any of the compared categories.\n",
    "\n",
    "**Conclusion**\n",
    "\n",
    "No Significant Differences: Based on the Tukey's HSD results, I conclude that there are `No statistically significant differences` in ratings among the categories (Books, Clothing, Electronics, Home, Toys) at the `5% significance level`.\n",
    "\n",
    "Practical Implications: This suggests that while there might be variations in ratings, they are not statistically significant enough to suggest that consumers perceive these categories differently based on the ratings provided."
   ]
  },
  {
   "cell_type": "markdown",
   "metadata": {
    "application/vnd.databricks.v1+cell": {
     "cellMetadata": {},
     "inputWidgets": {},
     "nuid": "c9157c2f-5a3e-47e3-a2c8-036ae5185fdd",
     "showTitle": false,
     "tableResultSettingsMap": {},
     "title": ""
    }
   },
   "source": [
    "####6. Visualizing Results\n"
   ]
  },
  {
   "cell_type": "code",
   "execution_count": 0,
   "metadata": {
    "application/vnd.databricks.v1+cell": {
     "cellMetadata": {
      "byteLimit": 2048000,
      "rowLimit": 10000
     },
     "inputWidgets": {},
     "nuid": "d9689f76-a936-4594-9591-7533ea71c01b",
     "showTitle": false,
     "tableResultSettingsMap": {},
     "title": ""
    }
   },
   "outputs": [
    {
     "output_type": "display_data",
     "data": {
      "image/png": "[encoded data removed]",
      "text/plain": [
       "<Figure size 1000x600 with 1 Axes>"
      ]
     },
     "metadata": {},
     "output_type": "display_data"
    }
   ],
   "source": [
    "import matplotlib.pyplot as plt\n",
    "import seaborn as sns\n",
    "plt.figure(figsize=(10, 6))\n",
    "sns.boxplot(data=product_pd_df, x='category', y='rating')\n",
    "plt.title('Rating Distribution by Product Category')\n",
    "plt.xlabel('Product Category')\n",
    "plt.ylabel('Rating')\n",
    "plt.xticks(rotation=45)\n",
    "plt.axhline(y=4, color='red', linestyle='--', label='Rating Threshold (4)')\n",
    "plt.legend()\n",
    "plt.show()\n"
   ]
  }
 ],
 "metadata": {
  "application/vnd.databricks.v1+notebook": {
   "dashboards": [],
   "environmentMetadata": null,
   "language": "python",
   "notebookMetadata": {
    "pythonIndentUnit": 4
   },
   "notebookName": "4. ANOVA on E-commerce Data",
   "widgets": {}
  }
 },
 "nbformat": 4,
 "nbformat_minor": 0
}
