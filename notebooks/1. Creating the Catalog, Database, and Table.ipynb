{
 "cells": [
  {
   "cell_type": "markdown",
   "metadata": {
    "application/vnd.databricks.v1+cell": {
     "cellMetadata": {
      "byteLimit": 2048000,
      "rowLimit": 10000
     },
     "inputWidgets": {},
     "nuid": "f563c416-db52-4cf7-9bce-22e7b5ca6265",
     "showTitle": false,
     "tableResultSettingsMap": {},
     "title": ""
    }
   },
   "source": [
    "# Smart E-commerce Catalog Data Analysis"
   ]
  },
  {
   "cell_type": "markdown",
   "metadata": {
    "application/vnd.databricks.v1+cell": {
     "cellMetadata": {
      "byteLimit": 2048000,
      "rowLimit": 10000
     },
     "inputWidgets": {},
     "nuid": "77df2fd2-9a53-4efb-950e-3144507aebab",
     "showTitle": false,
     "tableResultSettingsMap": {},
     "title": ""
    }
   },
   "source": [
    "## 1. Creating the Catalog, Database, and Table\n",
    "   Databricks enables me to create catalogs, databases, and tables within Unity Catalog. Since I’m simulating, I’ll use Databricks SQL commands to establish a catalog, database, and a table with my specified schema.\n",
    "\n",
    "\n",
    "| Column Name     | Description                                                      | Data Type            |\n",
    "|------------------|------------------------------------------------------------------|----------------------|\n",
    "| product_id       | Unique identifier for each product                               | Integer              |\n",
    "| product_name     | Name of the product                                             | String               |\n",
    "| category         | Category to which the product belongs                            | String (e.g., \"Electronics\", \"Clothing\", \"Home\") |\n",
    "| price            | Price of the product                                            | Float                |\n",
    "| stock            | Number of items available                                       | Integer              |\n",
    "| rating           | Average customer rating                                          | Float (1 to 5)       |\n",
    "| launch_date      | Date the product was launched                                   | Date                 |\n",
    "| description      | Brief description of the product                                | String               |\n",
    "| is_active        | Boolean indicating if the product is active in the catalog      | Boolean (true/false) |\n",
    "\n"
   ]
  },
  {
   "cell_type": "markdown",
   "metadata": {
    "application/vnd.databricks.v1+cell": {
     "cellMetadata": {
      "byteLimit": 2048000,
      "rowLimit": 10000
     },
     "inputWidgets": {},
     "nuid": "c078aaab-a6ce-4821-b8f8-e4b1e6fb4055",
     "showTitle": false,
     "tableResultSettingsMap": {},
     "title": ""
    }
   },
   "source": [
    "   **Step 1: Create Catalog and Database**  \n",
    "   First, I’ll create the catalog and database. In Databricks SQL."
   ]
  },
  {
   "cell_type": "code",
   "execution_count": 0,
   "metadata": {
    "application/vnd.databricks.v1+cell": {
     "cellMetadata": {
      "byteLimit": 2048000,
      "implicitDf": true,
      "rowLimit": 10000
     },
     "inputWidgets": {},
     "nuid": "0597feac-17af-420b-8f01-a2114b79f82d",
     "showTitle": false,
     "tableResultSettingsMap": {},
     "title": ""
    }
   },
   "outputs": [],
   "source": [
    "\n",
    "%sql\n",
    "-- Create a catalog \n",
    "--   CREATE CATALOG IF NOT EXISTS product_catalog;\n",
    "\n",
    "-- Switch to the new catalog\n",
    "--  USE CATALOG product_catalog;\n",
    "\n",
    "/*\n",
    "Note: I can't run this code because Unity Catalog is not available in the Databricks Community Edition. \n",
    "This code is just an illustration of how to create a catalog and database if Unity Catalog were enabled.\n",
    "*/"
   ]
  },
  {
   "cell_type": "markdown",
   "metadata": {
    "application/vnd.databricks.v1+cell": {
     "cellMetadata": {
      "byteLimit": 2048000,
      "rowLimit": 10000
     },
     "inputWidgets": {},
     "nuid": "cfbc5ec2-0bc4-4ecd-8a74-6ea9248fa72b",
     "showTitle": false,
     "tableResultSettingsMap": {},
     "title": ""
    }
   },
   "source": [
    "**Step 2: Create the Table with the Specified Schema**  \n",
    "Now, I’ll create the table in `product_db` with the structure I provided:\n",
    "\n"
   ]
  },
  {
   "cell_type": "code",
   "execution_count": 0,
   "metadata": {
    "application/vnd.databricks.v1+cell": {
     "cellMetadata": {
      "byteLimit": 2048000,
      "implicitDf": true,
      "rowLimit": 10000
     },
     "inputWidgets": {},
     "nuid": "f42b9fe2-d88d-41df-8550-2f23d5bb0aff",
     "showTitle": false,
     "tableResultSettingsMap": {},
     "title": ""
    }
   },
   "outputs": [],
   "source": [
    "%sql\n",
    "-- USE product_catalog.product_db;\n",
    "CREATE DATABASE IF NOT EXISTS product_db;\n",
    "\n",
    "CREATE TABLE IF NOT EXISTS product_table (\n",
    "    product_id INT,\n",
    "    product_name STRING,\n",
    "    category STRING,\n",
    "    price FLOAT,\n",
    "    stock INT,\n",
    "    rating FLOAT,\n",
    "    launch_date DATE,\n",
    "    description STRING,\n",
    "    is_active BOOLEAN\n",
    ");"
   ]
  },
  {
   "cell_type": "markdown",
   "metadata": {
    "application/vnd.databricks.v1+cell": {
     "cellMetadata": {
      "byteLimit": 2048000,
      "rowLimit": 10000
     },
     "inputWidgets": {},
     "nuid": "8dc76875-bb70-4413-8a70-8f7b830f1f54",
     "showTitle": false,
     "tableResultSettingsMap": {},
     "title": ""
    }
   },
   "source": [
    "**Step 3: Create the Table with the Specified Schema (Simulating Data Creation)**  \n",
    "\n",
    "In this step, I will create a Spark DataFrame using a defined schema and generate sample data for the product catalog. The following code demonstrates the entire process, including initializing a Spark session, defining the schema, generating sample data, and introducing missing values."
   ]
  },
  {
   "cell_type": "code",
   "execution_count": 0,
   "metadata": {
    "application/vnd.databricks.v1+cell": {
     "cellMetadata": {
      "byteLimit": 2048000,
      "rowLimit": 10000
     },
     "inputWidgets": {},
     "nuid": "fa26a603-e49b-4883-83bd-324a7575e396",
     "showTitle": false,
     "tableResultSettingsMap": {},
     "title": ""
    }
   },
   "outputs": [],
   "source": [
    "from datetime import date\n",
    "from pyspark.sql import SparkSession\n",
    "from pyspark.sql import functions as F \n",
    "from pyspark.sql.types import StructType, StructField, IntegerType, StringType, FloatType, DateType, BooleanType\n",
    "import pandas as pd\n",
    "import numpy as np\n",
    "from datetime import datetime, timedelta\n",
    "import random\n",
    "\n",
    "# Initialize a Spark session\n",
    "spark = SparkSession.builder.getOrCreate()\n",
    "\n",
    "# Define the schema\n",
    "schema = StructType([\n",
    "    StructField(\"product_id\", IntegerType(), True),\n",
    "    StructField(\"product_name\", StringType(), True),\n",
    "    StructField(\"category\", StringType(), True),\n",
    "    StructField(\"price\", FloatType(), True),\n",
    "    StructField(\"stock\", IntegerType(), True),\n",
    "    StructField(\"rating\", FloatType(), True),\n",
    "    StructField(\"launch_date\", DateType(), True),\n",
    "    StructField(\"description\", StringType(), True),\n",
    "    StructField(\"is_active\", BooleanType(), True)\n",
    "])\n",
    "# Seed for reproducibility\n",
    "random.seed(42)\n",
    "\n",
    "# Sample size\n",
    "num_products = 1000\n",
    "\n",
    "# Generate sample data\n",
    "data = [\n",
    "    {\n",
    "        'product_id': i,\n",
    "        'product_name': f'Product {i}',\n",
    "        'category': random.choice(['Electronics', 'Clothing', 'Home', 'Books', 'Toys']),\n",
    "        'price': round(random.uniform(5, 500), 2),\n",
    "        'stock': random.randint(0, 100),\n",
    "        'rating': round(random.uniform(1, 5), 1),\n",
    "        'launch_date': datetime.now() - timedelta(days=random.randint(0, 365)),\n",
    "        'description': 'This is a great product.',\n",
    "        'is_active': random.choice([True, False])\n",
    "    }\n",
    "    for i in range(1, num_products + 1)\n",
    "]\n",
    "\n",
    "# Create the DataFrame\n",
    "product_df = spark.createDataFrame(data, schema=schema)\n",
    "\n",
    "random_indices = random.sample(range(num_products), 50)\n",
    "\n",
    "# Create a new DataFrame with missing values in the 'price' column\n",
    "for idx in random_indices:\n",
    "    product_df = product_df.withColumn(\n",
    "        'price', \n",
    "        F.when(F.monotonically_increasing_id() == idx, None).otherwise(product_df['price'])\n",
    "    )\n",
    "\n",
    "# Write the DataFrame to the catalog table\n",
    "product_df.write.mode(\"overwrite\").saveAsTable(\"product_db.product_table\")\n",
    "\n"
   ]
  },
  {
   "cell_type": "markdown",
   "metadata": {
    "application/vnd.databricks.v1+cell": {
     "cellMetadata": {
      "byteLimit": 2048000,
      "rowLimit": 10000
     },
     "inputWidgets": {},
     "nuid": "a56e2baf-b750-4574-931f-bf0ef3205297",
     "showTitle": false,
     "tableResultSettingsMap": {},
     "title": ""
    }
   },
   "source": [
    "**Step 4: Extracting the Table as a DataFrame**\n",
    "\n",
    "Now, I will simulate extracting this table as a Spark DataFrame and saving it as a Pandas DataFrame.\n"
   ]
  },
  {
   "cell_type": "code",
   "execution_count": 0,
   "metadata": {
    "application/vnd.databricks.v1+cell": {
     "cellMetadata": {
      "byteLimit": 2048000,
      "rowLimit": 10000
     },
     "inputWidgets": {},
     "nuid": "1661152d-7ddc-46dd-be41-8a3ac5d74817",
     "showTitle": false,
     "tableResultSettingsMap": {},
     "title": ""
    }
   },
   "outputs": [
    {
     "output_type": "stream",
     "name": "stdout",
     "output_type": "stream",
     "text": [
      "+----------+------------+-----------+------+-----+------+-----------+--------------------+---------+\n|product_id|product_name|   category| price|stock|rating|launch_date|         description|is_active|\n+----------+------------+-----------+------+-----+------+-----------+--------------------+---------+\n|         1|   Product 1|Electronics| 17.38|   35|   2.0| 2024-08-20|This is a great p...|     true|\n|         2|   Product 2|       Toys| 48.03|   54|   1.1| 2024-09-13|This is a great p...|     true|\n|         3|   Product 3|   Clothing|255.15|    3|   3.2| 2023-12-03|This is a great p...|    false|\n|         4|   Product 4|   Clothing|227.36|   35|   4.2| 2024-10-27|This is a great p...|     true|\n|         5|   Product 5|      Books|173.42|   19|   1.9| 2024-05-11|This is a great p...|     true|\n|         6|   Product 6|Electronics|193.06|   45|   4.4| 2023-12-26|This is a great p...|    false|\n|         7|   Product 7|Electronics|366.22|   68|   1.5| 2024-04-20|This is a great p...|     true|\n|         8|   Product 8|       Toys|150.12|   80|   3.5| 2024-04-28|This is a great p...|     true|\n|         9|   Product 9|Electronics| 27.68|   29|   4.1| 2024-09-20|This is a great p...|     true|\n|        10|  Product 10|Electronics|193.16|   58|   3.5| 2024-04-27|This is a great p...|     true|\n|        11|  Product 11|       Home|180.86|   85|   2.1| 2023-11-16|This is a great p...|     true|\n|        12|  Product 12|       Toys|319.31|   68|   3.9| 2024-08-08|This is a great p...|    false|\n|        13|  Product 13|      Books|138.62|   81|   3.8| 2024-07-10|This is a great p...|    false|\n|        14|  Product 14|Electronics|118.38|    4|   4.2| 2024-04-08|This is a great p...|    false|\n|        15|  Product 15|Electronics|109.44|   72|   4.5| 2024-05-22|This is a great p...|     true|\n|        16|  Product 16|      Books|200.84|   82|   2.8| 2024-06-17|This is a great p...|     true|\n|        17|  Product 17|   Clothing|373.77|   68|   2.1| 2024-01-05|This is a great p...|    false|\n|        18|  Product 18|       Toys| 202.7|   28|   5.0| 2024-08-21|This is a great p...|    false|\n|        19|  Product 19|Electronics|379.11|   14|   1.6| 2024-08-10|This is a great p...|    false|\n|        20|  Product 20|       Toys| 36.45|   48|   3.4| 2024-03-05|This is a great p...|    false|\n+----------+------------+-----------+------+-----+------+-----------+--------------------+---------+\nonly showing top 20 rows\n\n"
     ]
    }
   ],
   "source": [
    "# Set the catalog and database context if needed\n",
    "# spark.sql(\"USE CATALOG product_catalog\")\n",
    "# spark.sql(\"USE product_db\")\n",
    "\n",
    "# Note: I can't run this code because Unity Catalog is not available in the Databricks Community Edition. \n",
    "# This code is just an illustration of how to create a catalog and database if Unity Catalog were enabled.\n",
    "\n",
    "\n",
    "# Extract the table into a DataFrame\n",
    "product_df = spark.sql(\"SELECT * FROM product_db.product_table\")\n",
    "\n",
    "# Save the DataFrame as a CSV file in the Databricks FileStore\n",
    "product_df.write.csv('/dbfs/FileStore/catalog_data.csv', header=True, mode=\"overwrite\")\n",
    "\n",
    "# Convert the Spark DataFrame to a Pandas DataFrame\n",
    "product_df_pandas = product_df.toPandas()\n",
    "\n",
    "# Display the DataFrame\n",
    "product_df.show()"
   ]
  }
 ],
 "metadata": {
  "application/vnd.databricks.v1+notebook": {
   "dashboards": [],
   "environmentMetadata": null,
   "language": "python",
   "notebookMetadata": {
    "mostRecentlyExecutedCommandWithImplicitDF": {
     "commandId": 1724356274907552,
     "dataframes": [
      "_sqldf"
     ]
    },
    "pythonIndentUnit": 4
   },
   "notebookName": "1. Creating the Catalog, Database, and Table",
   "widgets": {}
  }
 },
 "nbformat": 4,
 "nbformat_minor": 0
}
