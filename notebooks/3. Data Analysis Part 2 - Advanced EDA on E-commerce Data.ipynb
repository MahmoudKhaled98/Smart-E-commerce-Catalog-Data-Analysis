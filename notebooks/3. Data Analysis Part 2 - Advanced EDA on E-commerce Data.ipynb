{
 "cells": [
  {
   "cell_type": "markdown",
   "metadata": {
    "application/vnd.databricks.v1+cell": {
     "cellMetadata": {
      "byteLimit": 2048000,
      "rowLimit": 10000
     },
     "inputWidgets": {},
     "nuid": "e3acbf19-4d4b-469a-b189-870e1125cdd5",
     "showTitle": false,
     "tableResultSettingsMap": {},
     "title": ""
    }
   },
   "source": [
    "# Smart E-commerce Catalog Data Analysis"
   ]
  },
  {
   "cell_type": "markdown",
   "metadata": {
    "application/vnd.databricks.v1+cell": {
     "cellMetadata": {
      "byteLimit": 2048000,
      "rowLimit": 10000
     },
     "inputWidgets": {},
     "nuid": "362d6824-3288-4425-927c-5df8f8dc5b67",
     "showTitle": false,
     "tableResultSettingsMap": {},
     "title": ""
    }
   },
   "source": [
    "## 3. Data Analysis Part 2 - Advanced EDA on E-commerce Data\n",
    "Having extracted the basic metrics in SQL, I'm now shifting my focus to conducting deeper analysis in Python."
   ]
  },
  {
   "cell_type": "markdown",
   "metadata": {
    "application/vnd.databricks.v1+cell": {
     "cellMetadata": {
      "byteLimit": 2048000,
      "rowLimit": 10000
     },
     "inputWidgets": {},
     "nuid": "37b49372-4dc9-4ec5-9c5e-f92d0a365e2e",
     "showTitle": false,
     "tableResultSettingsMap": {},
     "title": ""
    }
   },
   "source": [
    "**1- Loading the Dataset**"
   ]
  },
  {
   "cell_type": "code",
   "execution_count": 0,
   "metadata": {
    "application/vnd.databricks.v1+cell": {
     "cellMetadata": {
      "byteLimit": 2048000,
      "rowLimit": 10000
     },
     "inputWidgets": {},
     "nuid": "4b894a55-4950-4ccd-a72a-bac564fbd5ee",
     "showTitle": false,
     "tableResultSettingsMap": {},
     "title": ""
    }
   },
   "outputs": [
    {
     "output_type": "execute_result",
     "data": {
      "text/html": [
       "<div>\n",
       "<style scoped>\n",
       "    .dataframe tbody tr th:only-of-type {\n",
       "        vertical-align: middle;\n",
       "    }\n",
       "\n",
       "    .dataframe tbody tr th {\n",
       "        vertical-align: top;\n",
       "    }\n",
       "\n",
       "    .dataframe thead th {\n",
       "        text-align: right;\n",
       "    }\n",
       "</style>\n",
       "<table border=\"1\" class=\"dataframe\">\n",
       "  <thead>\n",
       "    <tr style=\"text-align: right;\">\n",
       "      <th></th>\n",
       "      <th>product_id</th>\n",
       "      <th>product_name</th>\n",
       "      <th>category</th>\n",
       "      <th>price</th>\n",
       "      <th>stock</th>\n",
       "      <th>rating</th>\n",
       "      <th>launch_date</th>\n",
       "      <th>description</th>\n",
       "      <th>is_active</th>\n",
       "    </tr>\n",
       "  </thead>\n",
       "  <tbody>\n",
       "    <tr>\n",
       "      <th>0</th>\n",
       "      <td>251</td>\n",
       "      <td>Product 251</td>\n",
       "      <td>Home</td>\n",
       "      <td>474.100006</td>\n",
       "      <td>62</td>\n",
       "      <td>1.8</td>\n",
       "      <td>2024-08-21</td>\n",
       "      <td>This is a great product.</td>\n",
       "      <td>True</td>\n",
       "    </tr>\n",
       "    <tr>\n",
       "      <th>1</th>\n",
       "      <td>252</td>\n",
       "      <td>Product 252</td>\n",
       "      <td>Electronics</td>\n",
       "      <td>151.419998</td>\n",
       "      <td>100</td>\n",
       "      <td>1.4</td>\n",
       "      <td>2024-01-28</td>\n",
       "      <td>This is a great product.</td>\n",
       "      <td>True</td>\n",
       "    </tr>\n",
       "    <tr>\n",
       "      <th>2</th>\n",
       "      <td>253</td>\n",
       "      <td>Product 253</td>\n",
       "      <td>Home</td>\n",
       "      <td>438.809998</td>\n",
       "      <td>79</td>\n",
       "      <td>1.5</td>\n",
       "      <td>2024-04-21</td>\n",
       "      <td>This is a great product.</td>\n",
       "      <td>True</td>\n",
       "    </tr>\n",
       "    <tr>\n",
       "      <th>3</th>\n",
       "      <td>254</td>\n",
       "      <td>Product 254</td>\n",
       "      <td>Clothing</td>\n",
       "      <td>94.519997</td>\n",
       "      <td>88</td>\n",
       "      <td>4.1</td>\n",
       "      <td>2024-08-07</td>\n",
       "      <td>This is a great product.</td>\n",
       "      <td>False</td>\n",
       "    </tr>\n",
       "    <tr>\n",
       "      <th>4</th>\n",
       "      <td>255</td>\n",
       "      <td>Product 255</td>\n",
       "      <td>Electronics</td>\n",
       "      <td>208.380005</td>\n",
       "      <td>86</td>\n",
       "      <td>3.9</td>\n",
       "      <td>2024-03-17</td>\n",
       "      <td>This is a great product.</td>\n",
       "      <td>False</td>\n",
       "    </tr>\n",
       "    <tr>\n",
       "      <th>5</th>\n",
       "      <td>256</td>\n",
       "      <td>Product 256</td>\n",
       "      <td>Books</td>\n",
       "      <td>120.830002</td>\n",
       "      <td>30</td>\n",
       "      <td>2.2</td>\n",
       "      <td>2024-03-04</td>\n",
       "      <td>This is a great product.</td>\n",
       "      <td>True</td>\n",
       "    </tr>\n",
       "    <tr>\n",
       "      <th>6</th>\n",
       "      <td>257</td>\n",
       "      <td>Product 257</td>\n",
       "      <td>Home</td>\n",
       "      <td>340.760010</td>\n",
       "      <td>73</td>\n",
       "      <td>4.9</td>\n",
       "      <td>2024-03-08</td>\n",
       "      <td>This is a great product.</td>\n",
       "      <td>False</td>\n",
       "    </tr>\n",
       "    <tr>\n",
       "      <th>7</th>\n",
       "      <td>258</td>\n",
       "      <td>Product 258</td>\n",
       "      <td>Books</td>\n",
       "      <td>253.940002</td>\n",
       "      <td>53</td>\n",
       "      <td>4.9</td>\n",
       "      <td>2024-07-20</td>\n",
       "      <td>This is a great product.</td>\n",
       "      <td>True</td>\n",
       "    </tr>\n",
       "    <tr>\n",
       "      <th>8</th>\n",
       "      <td>259</td>\n",
       "      <td>Product 259</td>\n",
       "      <td>Home</td>\n",
       "      <td>30.830000</td>\n",
       "      <td>61</td>\n",
       "      <td>4.5</td>\n",
       "      <td>2024-01-21</td>\n",
       "      <td>This is a great product.</td>\n",
       "      <td>True</td>\n",
       "    </tr>\n",
       "    <tr>\n",
       "      <th>9</th>\n",
       "      <td>260</td>\n",
       "      <td>Product 260</td>\n",
       "      <td>Toys</td>\n",
       "      <td>426.329987</td>\n",
       "      <td>36</td>\n",
       "      <td>1.3</td>\n",
       "      <td>2024-08-09</td>\n",
       "      <td>This is a great product.</td>\n",
       "      <td>False</td>\n",
       "    </tr>\n",
       "  </tbody>\n",
       "</table>\n",
       "</div>"
      ],
      "text/plain": [
       "   product_id product_name  ...               description  is_active\n",
       "0         251  Product 251  ...  This is a great product.       True\n",
       "1         252  Product 252  ...  This is a great product.       True\n",
       "2         253  Product 253  ...  This is a great product.       True\n",
       "3         254  Product 254  ...  This is a great product.      False\n",
       "4         255  Product 255  ...  This is a great product.      False\n",
       "5         256  Product 256  ...  This is a great product.       True\n",
       "6         257  Product 257  ...  This is a great product.      False\n",
       "7         258  Product 258  ...  This is a great product.       True\n",
       "8         259  Product 259  ...  This is a great product.       True\n",
       "9         260  Product 260  ...  This is a great product.      False\n",
       "\n",
       "[10 rows x 9 columns]"
      ]
     },
     "execution_count": 2,
     "metadata": {},
     "output_type": "execute_result"
    }
   ],
   "source": [
    "#Load the dataset\n",
    "product_df = spark.sql(\"SELECT * FROM product_db.product_table\")\n",
    "product_pd_df = product_df.toPandas()\n",
    "product_pd_df.head(10)"
   ]
  },
  {
   "cell_type": "code",
   "execution_count": 0,
   "metadata": {
    "application/vnd.databricks.v1+cell": {
     "cellMetadata": {
      "byteLimit": 2048000,
      "rowLimit": 10000
     },
     "inputWidgets": {},
     "nuid": "8fab5e6f-4326-4cbd-a423-758297d3d7aa",
     "showTitle": false,
     "tableResultSettingsMap": {},
     "title": ""
    }
   },
   "outputs": [],
   "source": [
    "import pandas as pd"
   ]
  },
  {
   "cell_type": "code",
   "execution_count": 0,
   "metadata": {
    "application/vnd.databricks.v1+cell": {
     "cellMetadata": {
      "byteLimit": 2048000,
      "rowLimit": 10000
     },
     "inputWidgets": {},
     "nuid": "35704233-ba44-4ccc-9de3-9a58b1ad5c88",
     "showTitle": false,
     "tableResultSettingsMap": {},
     "title": ""
    }
   },
   "outputs": [
    {
     "output_type": "stream",
     "name": "stdout",
     "output_type": "stream",
     "text": [
      "<class 'pandas.core.frame.DataFrame'>\nRangeIndex: 1000 entries, 0 to 999\nData columns (total 9 columns):\n #   Column        Non-Null Count  Dtype  \n---  ------        --------------  -----  \n 0   product_id    1000 non-null   int32  \n 1   product_name  1000 non-null   object \n 2   category      1000 non-null   object \n 3   price         997 non-null    float32\n 4   stock         1000 non-null   int32  \n 5   rating        1000 non-null   float32\n 6   launch_date   1000 non-null   object \n 7   description   1000 non-null   object \n 8   is_active     1000 non-null   bool   \ndtypes: bool(1), float32(2), int32(2), object(4)\nmemory usage: 48.0+ KB\nNone\n"
     ]
    },
    {
     "output_type": "execute_result",
     "data": {
      "text/html": [
       "<div>\n",
       "<style scoped>\n",
       "    .dataframe tbody tr th:only-of-type {\n",
       "        vertical-align: middle;\n",
       "    }\n",
       "\n",
       "    .dataframe tbody tr th {\n",
       "        vertical-align: top;\n",
       "    }\n",
       "\n",
       "    .dataframe thead th {\n",
       "        text-align: right;\n",
       "    }\n",
       "</style>\n",
       "<table border=\"1\" class=\"dataframe\">\n",
       "  <thead>\n",
       "    <tr style=\"text-align: right;\">\n",
       "      <th></th>\n",
       "      <th>product_id</th>\n",
       "      <th>price</th>\n",
       "      <th>stock</th>\n",
       "      <th>rating</th>\n",
       "    </tr>\n",
       "  </thead>\n",
       "  <tbody>\n",
       "    <tr>\n",
       "      <th>count</th>\n",
       "      <td>1000.000000</td>\n",
       "      <td>997.000000</td>\n",
       "      <td>1000.00000</td>\n",
       "      <td>1000.000000</td>\n",
       "    </tr>\n",
       "    <tr>\n",
       "      <th>mean</th>\n",
       "      <td>500.500000</td>\n",
       "      <td>254.441696</td>\n",
       "      <td>49.76100</td>\n",
       "      <td>2.966700</td>\n",
       "    </tr>\n",
       "    <tr>\n",
       "      <th>std</th>\n",
       "      <td>288.819436</td>\n",
       "      <td>143.719666</td>\n",
       "      <td>29.08945</td>\n",
       "      <td>1.171278</td>\n",
       "    </tr>\n",
       "    <tr>\n",
       "      <th>min</th>\n",
       "      <td>1.000000</td>\n",
       "      <td>6.320000</td>\n",
       "      <td>0.00000</td>\n",
       "      <td>1.000000</td>\n",
       "    </tr>\n",
       "    <tr>\n",
       "      <th>25%</th>\n",
       "      <td>250.750000</td>\n",
       "      <td>134.500000</td>\n",
       "      <td>25.00000</td>\n",
       "      <td>1.900000</td>\n",
       "    </tr>\n",
       "    <tr>\n",
       "      <th>50%</th>\n",
       "      <td>500.500000</td>\n",
       "      <td>254.149994</td>\n",
       "      <td>50.00000</td>\n",
       "      <td>3.000000</td>\n",
       "    </tr>\n",
       "    <tr>\n",
       "      <th>75%</th>\n",
       "      <td>750.250000</td>\n",
       "      <td>379.179993</td>\n",
       "      <td>74.00000</td>\n",
       "      <td>4.000000</td>\n",
       "    </tr>\n",
       "    <tr>\n",
       "      <th>max</th>\n",
       "      <td>1000.000000</td>\n",
       "      <td>499.799988</td>\n",
       "      <td>100.00000</td>\n",
       "      <td>5.000000</td>\n",
       "    </tr>\n",
       "  </tbody>\n",
       "</table>\n",
       "</div>"
      ],
      "text/plain": [
       "        product_id       price       stock       rating\n",
       "count  1000.000000  997.000000  1000.00000  1000.000000\n",
       "mean    500.500000  254.441696    49.76100     2.966700\n",
       "std     288.819436  143.719666    29.08945     1.171278\n",
       "min       1.000000    6.320000     0.00000     1.000000\n",
       "25%     250.750000  134.500000    25.00000     1.900000\n",
       "50%     500.500000  254.149994    50.00000     3.000000\n",
       "75%     750.250000  379.179993    74.00000     4.000000\n",
       "max    1000.000000  499.799988   100.00000     5.000000"
      ]
     },
     "execution_count": 4,
     "metadata": {},
     "output_type": "execute_result"
    }
   ],
   "source": [
    "#Get summary statistics \n",
    "print(product_pd_df.info())\n",
    "product_pd_df.describe()"
   ]
  },
  {
   "cell_type": "markdown",
   "metadata": {
    "application/vnd.databricks.v1+cell": {
     "cellMetadata": {
      "byteLimit": 2048000,
      "rowLimit": 10000
     },
     "inputWidgets": {},
     "nuid": "9328e4c2-0399-4f48-879f-19300d718db0",
     "showTitle": false,
     "tableResultSettingsMap": {},
     "title": ""
    }
   },
   "source": [
    "**2- Missing Data**"
   ]
  },
  {
   "cell_type": "markdown",
   "metadata": {
    "application/vnd.databricks.v1+cell": {
     "cellMetadata": {
      "byteLimit": 2048000,
      "rowLimit": 10000
     },
     "inputWidgets": {},
     "nuid": "3407d67e-98c8-4548-ba55-756dda234a9e",
     "showTitle": false,
     "tableResultSettingsMap": {},
     "title": ""
    }
   },
   "source": [
    "Checking, and handling missing data."
   ]
  },
  {
   "cell_type": "code",
   "execution_count": 0,
   "metadata": {
    "application/vnd.databricks.v1+cell": {
     "cellMetadata": {
      "byteLimit": 2048000,
      "rowLimit": 10000
     },
     "inputWidgets": {},
     "nuid": "769421a8-e7d8-4414-8d26-8166b5da644f",
     "showTitle": false,
     "tableResultSettingsMap": {},
     "title": ""
    }
   },
   "outputs": [
    {
     "output_type": "execute_result",
     "data": {
      "text/plain": [
       "product_id      0\n",
       "product_name    0\n",
       "category        0\n",
       "price           3\n",
       "stock           0\n",
       "rating          0\n",
       "launch_date     0\n",
       "description     0\n",
       "is_active       0\n",
       "dtype: int64"
      ]
     },
     "execution_count": 5,
     "metadata": {},
     "output_type": "execute_result"
    }
   ],
   "source": [
    "product_pd_df.isna().sum()"
   ]
  },
  {
   "cell_type": "code",
   "execution_count": 0,
   "metadata": {
    "application/vnd.databricks.v1+cell": {
     "cellMetadata": {
      "byteLimit": 2048000,
      "rowLimit": 10000
     },
     "inputWidgets": {},
     "nuid": "c980d381-a856-42d2-83db-5888d2e3c769",
     "showTitle": false,
     "tableResultSettingsMap": {},
     "title": ""
    }
   },
   "outputs": [
    {
     "output_type": "stream",
     "name": "stdout",
     "output_type": "stream",
     "text": [
      "product_id      0.0\nproduct_name    0.0\ncategory        0.0\nprice           0.3\nstock           0.0\nrating          0.0\nlaunch_date     0.0\ndescription     0.0\nis_active       0.0\ndtype: float64\n"
     ]
    }
   ],
   "source": [
    "#Checking missing values\n",
    "missing_data = product_pd_df.isnull().mean() * 100  # Percentage of missing data\n",
    "print(missing_data)"
   ]
  },
  {
   "cell_type": "markdown",
   "metadata": {
    "application/vnd.databricks.v1+cell": {
     "cellMetadata": {
      "byteLimit": 2048000,
      "rowLimit": 10000
     },
     "inputWidgets": {},
     "nuid": "178f2c43-8ce4-4a95-8139-ea3dfeee57a6",
     "showTitle": false,
     "tableResultSettingsMap": {},
     "title": ""
    }
   },
   "source": [
    "The only column that has missing data is `price`,  which has `0.3%` of its entries missing."
   ]
  },
  {
   "cell_type": "markdown",
   "metadata": {
    "application/vnd.databricks.v1+cell": {
     "cellMetadata": {
      "byteLimit": 2048000,
      "rowLimit": 10000
     },
     "inputWidgets": {},
     "nuid": "a6b2cb39-ef13-4df2-b61e-5fcc8e804d8f",
     "showTitle": false,
     "tableResultSettingsMap": {},
     "title": ""
    }
   },
   "source": [
    "**Impact of Missing Data:**\n",
    "\n",
    "Analyze if there’s a relationship between missing values in price or rating and any other features."
   ]
  },
  {
   "cell_type": "code",
   "execution_count": 0,
   "metadata": {
    "application/vnd.databricks.v1+cell": {
     "cellMetadata": {
      "byteLimit": 2048000,
      "rowLimit": 10000
     },
     "inputWidgets": {},
     "nuid": "3fcaf363-f230-4985-af67-55e9d80ad40c",
     "showTitle": false,
     "tableResultSettingsMap": {},
     "title": ""
    }
   },
   "outputs": [
    {
     "output_type": "stream",
     "name": "stdout",
     "output_type": "stream",
     "text": [
      "Average Stock by Price Missing: price_missing\nFalse    49.781344\nTrue     43.000000\nName: stock, dtype: float64\n"
     ]
    }
   ],
   "source": [
    "product_pd_df['price_missing'] = product_pd_df['price'].isnull()\n",
    "product_pd_df['rating_missing'] = product_pd_df['rating'].isnull()\n",
    "price_missing_impact = product_pd_df.groupby('price_missing')['stock'].mean()\n",
    "print(\"Average Stock by Price Missing:\", price_missing_impact)\n"
   ]
  },
  {
   "cell_type": "markdown",
   "metadata": {
    "application/vnd.databricks.v1+cell": {
     "cellMetadata": {
      "byteLimit": 2048000,
      "rowLimit": 10000
     },
     "inputWidgets": {},
     "nuid": "40e6854d-35b3-40c2-b3f3-616957d220d2",
     "showTitle": false,
     "tableResultSettingsMap": {},
     "title": ""
    }
   },
   "source": [
    "An analysis was conducted to explore the relationship between missing values in the `price` column and the average stock levels of products.\n",
    "\n",
    "- **Average Stock by Price Missing**:\n",
    "  - **Products with Price Present**: 49.78\n",
    "  - **Products with Missing Price**: 43.00\n",
    "\n",
    "This indicates that products with missing price data tend to have a lower average stock compared to those with available price information. This insight may suggest that missing price values could be associated with inventory management issues or the categorization of products within the database. Further analysis could be beneficial to explore the implications of these missing values on sales and inventory strategies."
   ]
  },
  {
   "cell_type": "markdown",
   "metadata": {
    "application/vnd.databricks.v1+cell": {
     "cellMetadata": {
      "byteLimit": 2048000,
      "rowLimit": 10000
     },
     "inputWidgets": {},
     "nuid": "c8814de0-c0a8-4dfb-a41d-d54460d83f7d",
     "showTitle": false,
     "tableResultSettingsMap": {},
     "title": ""
    }
   },
   "source": [
    "**Handling Missing Data**\n",
    "\n",
    "After analyzing the dataset, I found that the only column with missing values is `price`, which accounts for only **0.3%** of the total data. Given this minimal percentage, I will proceed to drop the missing data from the dataset. This approach is justified as it will not significantly impact the overall dataset's integrity or the results of the analysis."
   ]
  },
  {
   "cell_type": "code",
   "execution_count": 0,
   "metadata": {
    "application/vnd.databricks.v1+cell": {
     "cellMetadata": {
      "byteLimit": 2048000,
      "rowLimit": 10000
     },
     "inputWidgets": {},
     "nuid": "2b96d331-eecb-4f03-b440-2a21f6b7791a",
     "showTitle": false,
     "tableResultSettingsMap": {},
     "title": ""
    }
   },
   "outputs": [],
   "source": [
    "# Drop rows with missing values in the 'price' column only\n",
    "product_pd_df = product_pd_df.dropna(subset=['price'])"
   ]
  },
  {
   "cell_type": "markdown",
   "metadata": {
    "application/vnd.databricks.v1+cell": {
     "cellMetadata": {
      "byteLimit": 2048000,
      "rowLimit": 10000
     },
     "inputWidgets": {},
     "nuid": "e59c84cb-fe7f-407b-858c-7ce0c6fe361d",
     "showTitle": false,
     "tableResultSettingsMap": {},
     "title": ""
    }
   },
   "source": [
    "**3- Outliers**\n",
    "\n",
    "1- Box Plot for Outliers"
   ]
  },
  {
   "cell_type": "markdown",
   "metadata": {
    "application/vnd.databricks.v1+cell": {
     "cellMetadata": {
      "byteLimit": 2048000,
      "rowLimit": 10000
     },
     "inputWidgets": {},
     "nuid": "3a7c0bb2-fb80-40e3-90be-f8d47983669d",
     "showTitle": false,
     "tableResultSettingsMap": {},
     "title": ""
    }
   },
   "source": [
    "Box Plot for Price Column:"
   ]
  },
  {
   "cell_type": "code",
   "execution_count": 0,
   "metadata": {
    "application/vnd.databricks.v1+cell": {
     "cellMetadata": {
      "byteLimit": 2048000,
      "rowLimit": 10000
     },
     "inputWidgets": {},
     "nuid": "58056f50-18bd-4111-8647-3f94338c11aa",
     "showTitle": false,
     "tableResultSettingsMap": {},
     "title": ""
    }
   },
   "outputs": [
    {
     "output_type": "display_data",
     "data": {
      "image/png": "[encoded data removed]",
      "text/plain": [
       "<Figure size 800x600 with 1 Axes>"
      ]
     },
     "metadata": {},
     "output_type": "display_data"
    }
   ],
   "source": [
    "import matplotlib.pyplot as plt\n",
    "import seaborn as sns\n",
    "\n",
    "# Box plot for price\n",
    "plt.figure(figsize=(8, 6))\n",
    "sns.boxplot(x=product_pd_df['price'])\n",
    "plt.title('Box Plot for Price Column')\n",
    "plt.xlabel('Price')\n",
    "plt.show()\n"
   ]
  },
  {
   "cell_type": "markdown",
   "metadata": {
    "application/vnd.databricks.v1+cell": {
     "cellMetadata": {
      "byteLimit": 2048000,
      "rowLimit": 10000
     },
     "inputWidgets": {},
     "nuid": "bb68743e-a626-4401-95fd-7249c44db9c3",
     "showTitle": false,
     "tableResultSettingsMap": {},
     "title": ""
    }
   },
   "source": [
    "Box Plot for Rating Column:\n"
   ]
  },
  {
   "cell_type": "code",
   "execution_count": 0,
   "metadata": {
    "application/vnd.databricks.v1+cell": {
     "cellMetadata": {
      "byteLimit": 2048000,
      "rowLimit": 10000
     },
     "inputWidgets": {},
     "nuid": "452aad8f-a994-4cef-8f32-aed904541796",
     "showTitle": false,
     "tableResultSettingsMap": {},
     "title": ""
    }
   },
   "outputs": [
    {
     "output_type": "display_data",
     "data": {
      "image/png": "[encoded data removed]",
      "text/plain": [
       "<Figure size 800x600 with 1 Axes>"
      ]
     },
     "metadata": {},
     "output_type": "display_data"
    }
   ],
   "source": [
    "# Box plot for rating\n",
    "plt.figure(figsize=(8, 6))\n",
    "sns.boxplot(x=product_pd_df['rating'])\n",
    "plt.title('Box Plot for Rating Column')\n",
    "plt.xlabel('Rating')\n",
    "plt.show()\n"
   ]
  },
  {
   "cell_type": "markdown",
   "metadata": {
    "application/vnd.databricks.v1+cell": {
     "cellMetadata": {
      "byteLimit": 2048000,
      "rowLimit": 10000
     },
     "inputWidgets": {},
     "nuid": "9c7bbea3-a711-4337-ada8-bba2703a8c10",
     "showTitle": false,
     "tableResultSettingsMap": {},
     "title": ""
    }
   },
   "source": [
    "2- Checking for Outliers Using Z-Score\n"
   ]
  },
  {
   "cell_type": "code",
   "execution_count": 0,
   "metadata": {
    "application/vnd.databricks.v1+cell": {
     "cellMetadata": {
      "byteLimit": 2048000,
      "rowLimit": 10000
     },
     "inputWidgets": {},
     "nuid": "8c653439-fdbd-40bf-940f-8305447eb926",
     "showTitle": false,
     "tableResultSettingsMap": {},
     "title": ""
    }
   },
   "outputs": [
    {
     "output_type": "stream",
     "name": "stdout",
     "output_type": "stream",
     "text": [
      "No outliers in Price Column.\nNo outliers in Rating Column.\n"
     ]
    }
   ],
   "source": [
    "from scipy import stats\n",
    "\n",
    "# Calculate Z-scores\n",
    "product_pd_df['price_zscore'] = stats.zscore(product_pd_df['price'])\n",
    "product_pd_df['rating_zscore'] = stats.zscore(product_pd_df['rating'])\n",
    "\n",
    "# Set a threshold for identifying outliers\n",
    "threshold = 3\n",
    "\n",
    "# Identify outliers in price and rating\n",
    "outliers_price = product_pd_df[abs(product_pd_df['price_zscore']) > threshold]\n",
    "outliers_rating = product_pd_df[abs(product_pd_df['rating_zscore']) > threshold]\n",
    "\n",
    "# Display the outliers\n",
    "if outliers_price.empty:\n",
    "    print(\"No outliers in Price Column.\")\n",
    "else:\n",
    "    print(\"Outliers in Price Column:\")\n",
    "    print(outliers_price)\n",
    "\n",
    "if outliers_rating.empty:\n",
    "    print(\"No outliers in Rating Column.\")\n",
    "else:\n",
    "    print(\"Outliers in Rating Column:\")\n",
    "    print(outliers_rating)\n"
   ]
  },
  {
   "cell_type": "markdown",
   "metadata": {
    "application/vnd.databricks.v1+cell": {
     "cellMetadata": {
      "byteLimit": 2048000,
      "rowLimit": 10000
     },
     "inputWidgets": {},
     "nuid": "b3c611a8-968a-40c5-9b9a-07a29480f263",
     "showTitle": false,
     "tableResultSettingsMap": {},
     "title": ""
    }
   },
   "source": [
    "1. **`impute_outliers_iqr(df, column)`**: \n",
    "   - This function identifies and imputes outliers in the specified column using the Interquartile Range (IQR) method. \n",
    "   - Outliers are defined as values that fall below the first quartile (Q1) minus 1.5 times the IQR or above the third quartile (Q3) plus 1.5 times the IQR.\n",
    "   - The identified outliers are replaced with the median of the column.\n",
    "\n",
    "*Note: In the columns that we are interested in there are no outliers*"
   ]
  },
  {
   "cell_type": "code",
   "execution_count": 0,
   "metadata": {
    "application/vnd.databricks.v1+cell": {
     "cellMetadata": {
      "byteLimit": 2048000,
      "rowLimit": 10000
     },
     "inputWidgets": {},
     "nuid": "9476d05d-0edf-48be-b793-b3429e2c6a17",
     "showTitle": false,
     "tableResultSettingsMap": {},
     "title": ""
    }
   },
   "outputs": [],
   "source": [
    "# This is a function I use when I need to impute outliers \n",
    "import pandas as pd\n",
    "\n",
    "def impute_outliers_iqr(df, column):\n",
    "    \"\"\"\n",
    "    Imputes outliers in the specified column of the DataFrame using IQR.\n",
    "    \n",
    "    Parameters:\n",
    "    df (pd.DataFrame): The DataFrame containing the data.\n",
    "    column (str): The column name in which to impute outliers.\n",
    "    \n",
    "    Returns:\n",
    "    pd.DataFrame: DataFrame with outliers imputed.\n",
    "    \"\"\"\n",
    "    # Calculate Q1 (25th percentile) and Q3 (75th percentile)\n",
    "    Q1 = df[column].quantile(0.25)\n",
    "    Q3 = df[column].quantile(0.75)\n",
    "    \n",
    "    # Calculate IQR\n",
    "    IQR = Q3 - Q1\n",
    "    \n",
    "    # Define lower and upper bounds for outliers\n",
    "    lower_bound = Q1 - 1.5 * IQR\n",
    "    upper_bound = Q3 + 1.5 * IQR\n",
    "    \n",
    "    # Impute outliers with the median\n",
    "    median = df[column].median()\n",
    "    df[column] = df[column].where((df[column] >= lower_bound) & (df[column] <= upper_bound), median)\n",
    "    \n",
    "    return df\n",
    "\n",
    "# Example usage:\n",
    "product_pd_df = impute_outliers_iqr(product_pd_df, 'price')\n",
    "product_pd_df = impute_outliers_iqr(product_pd_df, 'rating')\n"
   ]
  },
  {
   "cell_type": "markdown",
   "metadata": {
    "application/vnd.databricks.v1+cell": {
     "cellMetadata": {
      "byteLimit": 2048000,
      "rowLimit": 10000
     },
     "inputWidgets": {},
     "nuid": "1ad79d66-bd35-465a-afa9-13269cd04a30",
     "showTitle": false,
     "tableResultSettingsMap": {},
     "title": ""
    }
   },
   "source": [
    "2. **`impute_outliers_zscore(df, column, threshold=3)`**: \n",
    "   - This function identifies and imputes outliers in the specified column using the Z-score method.\n",
    "   - Outliers are defined as values with an absolute Z-score greater than the specified threshold (default is 3).\n",
    "   - The identified outliers are replaced with the median of the column.\n",
    "   \n",
    "*Note: In the columns that we are interested in there are no outliers*"
   ]
  },
  {
   "cell_type": "code",
   "execution_count": 0,
   "metadata": {
    "application/vnd.databricks.v1+cell": {
     "cellMetadata": {
      "byteLimit": 2048000,
      "rowLimit": 10000
     },
     "inputWidgets": {},
     "nuid": "3c97e25b-f5f5-4ee0-82d9-cae1f76b3337",
     "showTitle": false,
     "tableResultSettingsMap": {},
     "title": ""
    }
   },
   "outputs": [],
   "source": [
    "import pandas as pd\n",
    "from scipy import stats\n",
    "\n",
    "def impute_outliers_zscore(df, column, threshold=3):\n",
    "    \"\"\"\n",
    "    Imputes outliers in the specified column of the DataFrame using Z-score method.\n",
    "    \n",
    "    Parameters:\n",
    "    df (pd.DataFrame): The DataFrame containing the data.\n",
    "    column (str): The column name in which to impute outliers.\n",
    "    threshold (float): The Z-score threshold for identifying outliers.\n",
    "    \n",
    "    Returns:\n",
    "    pd.DataFrame: DataFrame with outliers imputed.\n",
    "    \"\"\"\n",
    "    # Calculate Z-scores for the specified column\n",
    "    z_scores = stats.zscore(df[column])\n",
    "    \n",
    "    # Calculate the median for imputation\n",
    "    median = df[column].median()\n",
    "    \n",
    "    # Impute outliers with the median\n",
    "    df[column] = df[column].where(abs(z_scores) <= threshold, median)\n",
    "    \n",
    "    return df\n",
    "\n",
    "# Example usage:\n",
    "product_pd_df = impute_outliers_zscore(product_pd_df, 'price', threshold=3)\n",
    "product_pd_df = impute_outliers_zscore(product_pd_df, 'rating', threshold=3)\n"
   ]
  },
  {
   "cell_type": "markdown",
   "metadata": {
    "application/vnd.databricks.v1+cell": {
     "cellMetadata": {
      "byteLimit": 2048000,
      "rowLimit": 10000
     },
     "inputWidgets": {},
     "nuid": "32f9e2bc-61fc-40d6-bbda-279c41db96aa",
     "showTitle": false,
     "tableResultSettingsMap": {},
     "title": ""
    }
   },
   "source": [
    "**4 - The Distributions**\n",
    "\n",
    "Plotting the distribution of the two columns ( `price` and `rating`) using matplotlib and seaborn."
   ]
  },
  {
   "cell_type": "code",
   "execution_count": 0,
   "metadata": {
    "application/vnd.databricks.v1+cell": {
     "cellMetadata": {
      "byteLimit": 2048000,
      "rowLimit": 10000
     },
     "inputWidgets": {},
     "nuid": "50ce1ec6-1542-4da9-be79-3e12d90e894b",
     "showTitle": false,
     "tableResultSettingsMap": {},
     "title": ""
    }
   },
   "outputs": [
    {
     "output_type": "display_data",
     "data": {
      "image/png": "[encoded data removed]",
      "text/plain": [
       "<Figure size 1200x600 with 2 Axes>"
      ]
     },
     "metadata": {},
     "output_type": "display_data"
    }
   ],
   "source": [
    "import matplotlib.pyplot as plt\n",
    "import seaborn as sns\n",
    "\n",
    "# Set the style of seaborn\n",
    "sns.set(style='whitegrid')\n",
    "\n",
    "# Create a figure with subplots\n",
    "fig, axes = plt.subplots(nrows=1, ncols=2, figsize=(12, 6))\n",
    "\n",
    "# Plot the distribution of the 'price' column\n",
    "sns.histplot(product_pd_df['price'], bins=30, kde=True, ax=axes[0])\n",
    "axes[0].set_title('Distribution of Price')\n",
    "axes[0].set_xlabel('Price')\n",
    "axes[0].set_ylabel('Frequency')\n",
    "\n",
    "# Plot the distribution of the 'rating' column\n",
    "sns.histplot(product_pd_df['rating'], bins=30, kde=True, ax=axes[1])\n",
    "axes[1].set_title('Distribution of Rating')\n",
    "axes[1].set_xlabel('Rating')\n",
    "axes[1].set_ylabel('Frequency')\n",
    "\n",
    "# Show the plots\n",
    "plt.tight_layout()\n",
    "plt.show()\n"
   ]
  },
  {
   "cell_type": "markdown",
   "metadata": {
    "application/vnd.databricks.v1+cell": {
     "cellMetadata": {
      "byteLimit": 2048000,
      "rowLimit": 10000
     },
     "inputWidgets": {},
     "nuid": "9fb7d8ee-44f9-4d87-a08d-a92e960b7b34",
     "showTitle": false,
     "tableResultSettingsMap": {},
     "title": ""
    }
   },
   "source": [
    "Plotting the distribution of the `category` column "
   ]
  },
  {
   "cell_type": "code",
   "execution_count": 0,
   "metadata": {
    "application/vnd.databricks.v1+cell": {
     "cellMetadata": {
      "byteLimit": 2048000,
      "rowLimit": 10000
     },
     "inputWidgets": {},
     "nuid": "0c6f7634-3617-473a-bbd4-87141716e15f",
     "showTitle": false,
     "tableResultSettingsMap": {},
     "title": ""
    }
   },
   "outputs": [
    {
     "output_type": "display_data",
     "data": {
      "image/png": "[encoded data removed]",
      "text/plain": [
       "<Figure size 1200x600 with 1 Axes>"
      ]
     },
     "metadata": {},
     "output_type": "display_data"
    }
   ],
   "source": [
    "plt.figure(figsize=(12, 6))\n",
    "# Plot the distribution of the 'category' column\n",
    "sns.histplot(product_pd_df['category'])\n",
    "plt.title('Distribution of Categories')\n",
    "plt.xlabel('Category')\n",
    "plt.ylabel('Count')\n",
    "\n",
    "plt.show()"
   ]
  },
  {
   "cell_type": "markdown",
   "metadata": {
    "application/vnd.databricks.v1+cell": {
     "cellMetadata": {
      "byteLimit": 2048000,
      "rowLimit": 10000
     },
     "inputWidgets": {},
     "nuid": "121954e7-a137-42d2-b47d-16f6b21e8f42",
     "showTitle": false,
     "tableResultSettingsMap": {},
     "title": ""
    }
   },
   "source": [
    "`category` column Pie chart"
   ]
  },
  {
   "cell_type": "code",
   "execution_count": 0,
   "metadata": {
    "application/vnd.databricks.v1+cell": {
     "cellMetadata": {
      "byteLimit": 2048000,
      "rowLimit": 10000
     },
     "inputWidgets": {},
     "nuid": "d6bc6534-73de-4430-998c-04d28cb54dd7",
     "showTitle": false,
     "tableResultSettingsMap": {},
     "title": ""
    }
   },
   "outputs": [
    {
     "output_type": "display_data",
     "data": {
      "image/png": "[encoded data removed]",
      "text/plain": [
       "<Figure size 800x600 with 1 Axes>"
      ]
     },
     "metadata": {},
     "output_type": "display_data"
    }
   ],
   "source": [
    "\n",
    "# Count the occurrences of each category\n",
    "category_counts = product_pd_df['category'].value_counts()\n",
    "\n",
    "# Plotting the pie chart\n",
    "plt.figure(figsize=(8, 6))\n",
    "plt.pie(category_counts, labels=category_counts.index, autopct='%1.1f%%', startangle=140)\n",
    "plt.title('Distribution of Categories')\n",
    "plt.axis('equal')  # Equal aspect ratio ensures the pie chart is circular\n",
    "plt.show()\n"
   ]
  },
  {
   "cell_type": "markdown",
   "metadata": {
    "application/vnd.databricks.v1+cell": {
     "cellMetadata": {
      "byteLimit": 2048000,
      "rowLimit": 10000
     },
     "inputWidgets": {},
     "nuid": "10f64161-6a9c-446a-9969-49bdfdbf59f9",
     "showTitle": false,
     "tableResultSettingsMap": {},
     "title": ""
    }
   },
   "source": [
    "**Distribution Observations**\n",
    "\n",
    "The distributions of the price, rating, and category columns are uniform. This indicates that the values are evenly distributed across their respective ranges, suggesting a balanced representation of products in terms of pricing, ratings, and categories."
   ]
  },
  {
   "cell_type": "markdown",
   "metadata": {
    "application/vnd.databricks.v1+cell": {
     "cellMetadata": {
      "byteLimit": 2048000,
      "rowLimit": 10000
     },
     "inputWidgets": {},
     "nuid": "7a885a90-f4bc-44a8-b672-039384a13cf8",
     "showTitle": false,
     "tableResultSettingsMap": {},
     "title": ""
    }
   },
   "source": [
    "**Category Rating**\n"
   ]
  },
  {
   "cell_type": "code",
   "execution_count": 0,
   "metadata": {
    "application/vnd.databricks.v1+cell": {
     "cellMetadata": {
      "byteLimit": 2048000,
      "rowLimit": 10000
     },
     "inputWidgets": {},
     "nuid": "8b0e4e8d-4717-47a2-8de4-5d70fdd0fdc6",
     "showTitle": false,
     "tableResultSettingsMap": {},
     "title": ""
    }
   },
   "outputs": [
    {
     "output_type": "execute_result",
     "data": {
      "text/plain": [
       "2.964594"
      ]
     },
     "execution_count": 17,
     "metadata": {},
     "output_type": "execute_result"
    }
   ],
   "source": [
    "product_pd_df['rating'].mean()"
   ]
  },
  {
   "cell_type": "code",
   "execution_count": 0,
   "metadata": {
    "application/vnd.databricks.v1+cell": {
     "cellMetadata": {
      "byteLimit": 2048000,
      "rowLimit": 10000
     },
     "inputWidgets": {},
     "nuid": "15a1bfbb-5c32-4b59-9133-2d12068848ba",
     "showTitle": false,
     "tableResultSettingsMap": {},
     "title": ""
    }
   },
   "outputs": [
    {
     "output_type": "execute_result",
     "data": {
      "text/plain": [
       "category\n",
       "Books          3.138235\n",
       "Clothing       2.913830\n",
       "Electronics    3.047980\n",
       "Home           2.858000\n",
       "Toys           2.862802\n",
       "Name: rating, dtype: float32"
      ]
     },
     "execution_count": 18,
     "metadata": {},
     "output_type": "execute_result"
    }
   ],
   "source": [
    "product_pd_df.groupby('category')['rating'].mean()"
   ]
  },
  {
   "cell_type": "code",
   "execution_count": 0,
   "metadata": {
    "application/vnd.databricks.v1+cell": {
     "cellMetadata": {
      "byteLimit": 2048000,
      "rowLimit": 10000
     },
     "inputWidgets": {},
     "nuid": "bc6c3fdb-a1e1-44d5-951b-e5ee3cb6d7e7",
     "showTitle": false,
     "tableResultSettingsMap": {},
     "title": ""
    }
   },
   "outputs": [
    {
     "output_type": "execute_result",
     "data": {
      "text/plain": [
       "Toys           207\n",
       "Books          204\n",
       "Home           200\n",
       "Electronics    198\n",
       "Clothing       188\n",
       "Name: category, dtype: int64"
      ]
     },
     "execution_count": 19,
     "metadata": {},
     "output_type": "execute_result"
    }
   ],
   "source": [
    "product_pd_df['category'].value_counts()"
   ]
  },
  {
   "cell_type": "markdown",
   "metadata": {
    "application/vnd.databricks.v1+cell": {
     "cellMetadata": {
      "byteLimit": 2048000,
      "rowLimit": 10000
     },
     "inputWidgets": {},
     "nuid": "eb6f8a65-50c3-4d1a-a866-be143ed28d1d",
     "showTitle": false,
     "tableResultSettingsMap": {},
     "title": ""
    }
   },
   "source": [
    "- Most category users tending to rate."
   ]
  },
  {
   "cell_type": "code",
   "execution_count": 0,
   "metadata": {
    "application/vnd.databricks.v1+cell": {
     "cellMetadata": {
      "byteLimit": 2048000,
      "rowLimit": 10000
     },
     "inputWidgets": {},
     "nuid": "2a392f94-07b8-44f0-b225-debd502cf31f",
     "showTitle": false,
     "tableResultSettingsMap": {},
     "title": ""
    }
   },
   "outputs": [
    {
     "output_type": "execute_result",
     "data": {
      "text/html": [
       "<div>\n",
       "<style scoped>\n",
       "    .dataframe tbody tr th:only-of-type {\n",
       "        vertical-align: middle;\n",
       "    }\n",
       "\n",
       "    .dataframe tbody tr th {\n",
       "        vertical-align: top;\n",
       "    }\n",
       "\n",
       "    .dataframe thead th {\n",
       "        text-align: right;\n",
       "    }\n",
       "</style>\n",
       "<table border=\"1\" class=\"dataframe\">\n",
       "  <thead>\n",
       "    <tr style=\"text-align: right;\">\n",
       "      <th></th>\n",
       "      <th>category</th>\n",
       "      <th>rating_count</th>\n",
       "    </tr>\n",
       "  </thead>\n",
       "  <tbody>\n",
       "    <tr>\n",
       "      <th>0</th>\n",
       "      <td>Books</td>\n",
       "      <td>204</td>\n",
       "    </tr>\n",
       "    <tr>\n",
       "      <th>1</th>\n",
       "      <td>Clothing</td>\n",
       "      <td>188</td>\n",
       "    </tr>\n",
       "    <tr>\n",
       "      <th>2</th>\n",
       "      <td>Electronics</td>\n",
       "      <td>198</td>\n",
       "    </tr>\n",
       "    <tr>\n",
       "      <th>3</th>\n",
       "      <td>Home</td>\n",
       "      <td>200</td>\n",
       "    </tr>\n",
       "    <tr>\n",
       "      <th>4</th>\n",
       "      <td>Toys</td>\n",
       "      <td>207</td>\n",
       "    </tr>\n",
       "  </tbody>\n",
       "</table>\n",
       "</div>"
      ],
      "text/plain": [
       "      category  rating_count\n",
       "0        Books           204\n",
       "1     Clothing           188\n",
       "2  Electronics           198\n",
       "3         Home           200\n",
       "4         Toys           207"
      ]
     },
     "execution_count": 20,
     "metadata": {},
     "output_type": "execute_result"
    }
   ],
   "source": [
    "\n",
    "#Count the number of ratings per category\n",
    "ratings_per_category = product_pd_df.groupby('category')['rating'].count().reset_index()\n",
    "\n",
    "# Rename the columns for clarity\n",
    "ratings_per_category.columns = ['category', 'rating_count']\n",
    "ratings_per_category"
   ]
  },
  {
   "cell_type": "markdown",
   "metadata": {
    "application/vnd.databricks.v1+cell": {
     "cellMetadata": {
      "byteLimit": 2048000,
      "rowLimit": 10000
     },
     "inputWidgets": {},
     "nuid": "44d4f246-90b5-43b6-9d8c-e183bf8ca182",
     "showTitle": false,
     "tableResultSettingsMap": {},
     "title": ""
    }
   },
   "source": [
    "- There is no most category users tending to rate, \n",
    "That was predicted because there are no missing values in the rating column."
   ]
  },
  {
   "cell_type": "markdown",
   "metadata": {
    "application/vnd.databricks.v1+cell": {
     "cellMetadata": {
      "byteLimit": 2048000,
      "rowLimit": 10000
     },
     "inputWidgets": {},
     "nuid": "15acdb22-bd92-47bc-90e0-ecffd47ad9ee",
     "showTitle": false,
     "tableResultSettingsMap": {},
     "title": ""
    }
   },
   "source": [
    "- A bar plot for most rated category"
   ]
  },
  {
   "cell_type": "code",
   "execution_count": 0,
   "metadata": {
    "application/vnd.databricks.v1+cell": {
     "cellMetadata": {
      "byteLimit": 2048000,
      "rowLimit": 10000
     },
     "inputWidgets": {},
     "nuid": "383c905f-6173-4794-a81e-9b432c0c9220",
     "showTitle": false,
     "tableResultSettingsMap": {},
     "title": ""
    }
   },
   "outputs": [
    {
     "output_type": "display_data",
     "data": {
      "image/png": "[encoded data removed]",
      "text/plain": [
       "<Figure size 1000x600 with 1 Axes>"
      ]
     },
     "metadata": {},
     "output_type": "display_data"
    }
   ],
   "source": [
    "# Create a bar plot\n",
    "plt.figure(figsize=(10, 6))\n",
    "sns.barplot(data=product_pd_df, x='category', y='rating', palette='viridis')\n",
    "\n",
    "# Add title and labels\n",
    "plt.title('Average Rating by Category')\n",
    "plt.xlabel('Average Rating')\n",
    "plt.ylabel('Category')\n",
    "\n",
    "# Add a high rating threshold line (optional)\n",
    "plt.axhline(y=3, color='red', linestyle='--', label='High Rating Threshold (3+)')\n",
    "plt.legend()\n",
    "\n",
    "# Show the plot\n",
    "plt.show()"
   ]
  },
  {
   "cell_type": "markdown",
   "metadata": {
    "application/vnd.databricks.v1+cell": {
     "cellMetadata": {
      "byteLimit": 2048000,
      "rowLimit": 10000
     },
     "inputWidgets": {},
     "nuid": "4fe6c542-f8b6-400a-899d-c9f62de230cc",
     "showTitle": false,
     "tableResultSettingsMap": {},
     "title": ""
    }
   },
   "source": [
    "The bar plot illustrates the average ratings for each category. Notably, only the **Books** and **Electronics** categories exceed the threshold rating of 3. This indicates that these categories are perceived more favorably by users compared to others.\n"
   ]
  },
  {
   "cell_type": "markdown",
   "metadata": {
    "application/vnd.databricks.v1+cell": {
     "cellMetadata": {
      "byteLimit": 2048000,
      "rowLimit": 10000
     },
     "inputWidgets": {},
     "nuid": "9a7fda1f-74d4-4baa-a191-ffdce67dbc8e",
     "showTitle": false,
     "tableResultSettingsMap": {},
     "title": ""
    }
   },
   "source": [
    "**5- Rating Distribution and Feature Engineering Prep**\n",
    "\n",
    "Rating Binarization (for logistic regression): Creating a target column for ratings ≥ 4."
   ]
  },
  {
   "cell_type": "code",
   "execution_count": 0,
   "metadata": {
    "application/vnd.databricks.v1+cell": {
     "cellMetadata": {
      "byteLimit": 2048000,
      "rowLimit": 10000
     },
     "inputWidgets": {},
     "nuid": "744b3615-731b-4699-9650-b442d35432fe",
     "showTitle": false,
     "tableResultSettingsMap": {},
     "title": ""
    }
   },
   "outputs": [
    {
     "output_type": "display_data",
     "data": {
      "image/png": "[encoded data removed]",
      "text/plain": [
       "<Figure size 640x480 with 1 Axes>"
      ]
     },
     "metadata": {},
     "output_type": "display_data"
    },
    {
     "output_type": "stream",
     "name": "stdout",
     "output_type": "stream",
     "text": [
      "0    0.740221\n1    0.259779\nName: very_high_rating, dtype: float64\n"
     ]
    }
   ],
   "source": [
    "\n",
    "product_pd_df['very_high_rating'] = (product_pd_df['rating'] >= 4).astype(int)\n",
    "sns.countplot(data=product_pd_df, x='very_high_rating')\n",
    "plt.title('Very High Rating (4+) Distribution')\n",
    "plt.show()\n",
    "\n",
    "\n",
    "# Print the normalized value counts of the 'high_rating' column, \n",
    "# which indicates the proportion of ratings that are classified as high (4 or above) \n",
    "# compared to the total number of ratings.\n",
    "print(product_pd_df['very_high_rating'].value_counts(normalize=True))"
   ]
  },
  {
   "cell_type": "markdown",
   "metadata": {
    "application/vnd.databricks.v1+cell": {
     "cellMetadata": {
      "byteLimit": 2048000,
      "rowLimit": 10000
     },
     "inputWidgets": {},
     "nuid": "22aea2d8-cd92-456b-8a80-28a504948ee1",
     "showTitle": false,
     "tableResultSettingsMap": {},
     "title": ""
    }
   },
   "source": [
    "The analysis reveals that approximately `74.02%` of the ratings fall below the threshold of 4,\n",
    " while around `25.98`% of the ratings are classified as high ratings (`4` or above). This indicates a significant portion of users are providing ratings less than 4, suggesting room for improvement in user satisfaction."
   ]
  }
 ],
 "metadata": {
  "application/vnd.databricks.v1+notebook": {
   "dashboards": [],
   "environmentMetadata": null,
   "language": "python",
   "notebookMetadata": {
    "pythonIndentUnit": 4
   },
   "notebookName": "3. Data Analysis Part 2 - Advanced EDA on E-commerce Data",
   "widgets": {}
  }
 },
 "nbformat": 4,
 "nbformat_minor": 0
}
