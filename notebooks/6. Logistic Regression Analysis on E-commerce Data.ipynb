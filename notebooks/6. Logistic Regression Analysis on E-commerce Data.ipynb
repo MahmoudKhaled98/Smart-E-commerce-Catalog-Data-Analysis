{
 "cells": [
  {
   "cell_type": "markdown",
   "metadata": {
    "application/vnd.databricks.v1+cell": {
     "cellMetadata": {
      "byteLimit": 2048000,
      "rowLimit": 10000
     },
     "inputWidgets": {},
     "nuid": "3bceaff2-76e1-479b-ad54-6966f8622f58",
     "showTitle": false,
     "tableResultSettingsMap": {},
     "title": ""
    }
   },
   "source": [
    "# Smart E-commerce Catalog Data Analysis\n",
    "##6. Logistic Regression Analysis on E-commerce Data"
   ]
  },
  {
   "cell_type": "markdown",
   "metadata": {
    "application/vnd.databricks.v1+cell": {
     "cellMetadata": {
      "byteLimit": 2048000,
      "rowLimit": 10000
     },
     "inputWidgets": {},
     "nuid": "2d066213-7856-4e51-b7c2-65f49fff2bee",
     "showTitle": false,
     "tableResultSettingsMap": {},
     "title": ""
    }
   },
   "source": [
    "##1. Importing the dataset"
   ]
  },
  {
   "cell_type": "code",
   "execution_count": 0,
   "metadata": {
    "application/vnd.databricks.v1+cell": {
     "cellMetadata": {
      "byteLimit": 2048000,
      "rowLimit": 10000
     },
     "inputWidgets": {},
     "nuid": "1de4361d-bde4-4981-ac0c-14667910a1bd",
     "showTitle": false,
     "tableResultSettingsMap": {},
     "title": ""
    }
   },
   "outputs": [],
   "source": [
    "#import the dataset\n",
    "\n",
    "import pandas as pd \n",
    "data_prepared = spark.sql(\"SELECT * FROM product_db.products_data_prepared\")\n",
    "prepared_df = data_prepared.toPandas()\n"
   ]
  },
  {
   "cell_type": "code",
   "execution_count": 0,
   "metadata": {
    "application/vnd.databricks.v1+cell": {
     "cellMetadata": {
      "byteLimit": 2048000,
      "rowLimit": 10000
     },
     "inputWidgets": {},
     "nuid": "ddddaf46-2474-4f8e-8380-d21b559a84f0",
     "showTitle": false,
     "tableResultSettingsMap": {},
     "title": ""
    }
   },
   "outputs": [],
   "source": [
    "prepared_df.dropna(inplace=True)"
   ]
  },
  {
   "cell_type": "markdown",
   "metadata": {
    "application/vnd.databricks.v1+cell": {
     "cellMetadata": {
      "byteLimit": 2048000,
      "rowLimit": 10000
     },
     "inputWidgets": {},
     "nuid": "71c72a09-c1fb-4435-995c-de457c03c8b5",
     "showTitle": false,
     "tableResultSettingsMap": {},
     "title": ""
    }
   },
   "source": [
    "###2. Defining Dependent and Independent Variables"
   ]
  },
  {
   "cell_type": "markdown",
   "metadata": {
    "application/vnd.databricks.v1+cell": {
     "cellMetadata": {
      "byteLimit": 2048000,
      "rowLimit": 10000
     },
     "inputWidgets": {},
     "nuid": "8b9b2297-787f-48de-85fb-bc7cefa9d1ce",
     "showTitle": false,
     "tableResultSettingsMap": {},
     "title": ""
    }
   },
   "source": [
    "**Dependent Variable (Target):**\n",
    "\n",
    "The dependent variable will be `in_demand`.\n",
    "\n",
    " Independent Variables (Features) will be:\n",
    "- `category_Clothing`, `category_Electronics`, `category_Home`, `category_Toys`: These one-hot encoded category variables allow the model to capture distinct demand patterns across different product types, enabling more accurate predictions.\n",
    "\n",
    "- `rating_category_Medium`, `rating_category_High`: These features categorize ratings into bins, helping the model understand how higher ratings influence demand, which may not be linear.\n",
    "\n",
    "- `price`: This continuous variable provides critical information on how pricing affects demand, allowing the model to assess the relationship between price and the likelihood of being \"in demand.\""
   ]
  },
  {
   "cell_type": "markdown",
   "metadata": {
    "application/vnd.databricks.v1+cell": {
     "cellMetadata": {
      "byteLimit": 2048000,
      "rowLimit": 10000
     },
     "inputWidgets": {},
     "nuid": "3631e12f-c57c-44a5-99d9-d7e8df626f89",
     "showTitle": false,
     "tableResultSettingsMap": {},
     "title": ""
    }
   },
   "source": [
    "###3. Isolating the variables\n"
   ]
  },
  {
   "cell_type": "code",
   "execution_count": 0,
   "metadata": {
    "application/vnd.databricks.v1+cell": {
     "cellMetadata": {
      "byteLimit": 2048000,
      "rowLimit": 10000
     },
     "inputWidgets": {},
     "nuid": "fdf49c23-812f-402c-b1af-17c9a2d599e8",
     "showTitle": false,
     "tableResultSettingsMap": {},
     "title": ""
    }
   },
   "outputs": [
    {
     "output_type": "execute_result",
     "data": {
      "text/html": [
       "<div>\n",
       "<style scoped>\n",
       "    .dataframe tbody tr th:only-of-type {\n",
       "        vertical-align: middle;\n",
       "    }\n",
       "\n",
       "    .dataframe tbody tr th {\n",
       "        vertical-align: top;\n",
       "    }\n",
       "\n",
       "    .dataframe thead th {\n",
       "        text-align: right;\n",
       "    }\n",
       "</style>\n",
       "<table border=\"1\" class=\"dataframe\">\n",
       "  <thead>\n",
       "    <tr style=\"text-align: right;\">\n",
       "      <th></th>\n",
       "      <th>product_id</th>\n",
       "      <th>product_name</th>\n",
       "      <th>price</th>\n",
       "      <th>stock</th>\n",
       "      <th>rating</th>\n",
       "      <th>launch_date</th>\n",
       "      <th>description</th>\n",
       "      <th>is_active</th>\n",
       "      <th>in_demand</th>\n",
       "      <th>category_Clothing</th>\n",
       "      <th>category_Electronics</th>\n",
       "      <th>category_Home</th>\n",
       "      <th>category_Toys</th>\n",
       "      <th>rating_category_Medium</th>\n",
       "      <th>rating_category_High</th>\n",
       "      <th>rating_category_Very_High</th>\n",
       "    </tr>\n",
       "  </thead>\n",
       "  <tbody>\n",
       "    <tr>\n",
       "      <th>0</th>\n",
       "      <td>744</td>\n",
       "      <td>Product 744</td>\n",
       "      <td>420.850006</td>\n",
       "      <td>17</td>\n",
       "      <td>3.7</td>\n",
       "      <td>2024-05-14</td>\n",
       "      <td>This is a great product.</td>\n",
       "      <td>False</td>\n",
       "      <td>1</td>\n",
       "      <td>0</td>\n",
       "      <td>0</td>\n",
       "      <td>1</td>\n",
       "      <td>0</td>\n",
       "      <td>0</td>\n",
       "      <td>1</td>\n",
       "      <td>0</td>\n",
       "    </tr>\n",
       "    <tr>\n",
       "      <th>1</th>\n",
       "      <td>745</td>\n",
       "      <td>Product 745</td>\n",
       "      <td>225.449997</td>\n",
       "      <td>99</td>\n",
       "      <td>2.2</td>\n",
       "      <td>2024-01-22</td>\n",
       "      <td>This is a great product.</td>\n",
       "      <td>True</td>\n",
       "      <td>0</td>\n",
       "      <td>0</td>\n",
       "      <td>0</td>\n",
       "      <td>0</td>\n",
       "      <td>0</td>\n",
       "      <td>1</td>\n",
       "      <td>0</td>\n",
       "      <td>0</td>\n",
       "    </tr>\n",
       "  </tbody>\n",
       "</table>\n",
       "</div>"
      ],
      "text/plain": [
       "   product_id product_name  ...  rating_category_High  rating_category_Very_High\n",
       "0         744  Product 744  ...                     1                          0\n",
       "1         745  Product 745  ...                     0                          0\n",
       "\n",
       "[2 rows x 16 columns]"
      ]
     },
     "execution_count": 125,
     "metadata": {},
     "output_type": "execute_result"
    }
   ],
   "source": [
    "prepared_df.head(2)"
   ]
  },
  {
   "cell_type": "code",
   "execution_count": 0,
   "metadata": {
    "application/vnd.databricks.v1+cell": {
     "cellMetadata": {
      "byteLimit": 2048000,
      "rowLimit": 10000
     },
     "inputWidgets": {},
     "nuid": "95be5cc8-46c4-453c-a7e7-38a6fdf0759a",
     "showTitle": false,
     "tableResultSettingsMap": {},
     "title": ""
    }
   },
   "outputs": [],
   "source": [
    "# Define the dependent variable\n",
    "y = prepared_df['in_demand']\n",
    "\n",
    "# Define the independent variables (X)\n",
    "X = prepared_df.drop(columns=['product_id','product_name', 'launch_date', 'description', 'is_active', 'in_demand','stock'] )\n"
   ]
  },
  {
   "cell_type": "markdown",
   "metadata": {
    "application/vnd.databricks.v1+cell": {
     "cellMetadata": {
      "byteLimit": 2048000,
      "rowLimit": 10000
     },
     "inputWidgets": {},
     "nuid": "24e3a065-a6ca-47a7-8715-59cef135fedc",
     "showTitle": false,
     "tableResultSettingsMap": {},
     "title": ""
    }
   },
   "source": [
    "###4. Check Logistic Regression Assumptions\n",
    "\n",
    "**Logistic regression has several assumptions that I should verify:**\n",
    "\n",
    "- Binary Dependent Variable: `True`\n",
    "\n",
    "- Independence of Observations: `True`,\n",
    " This can be assumed if the dataset is not correlated.\n",
    "\n",
    "- No Multicollinearity:\n",
    "\n",
    "Check for multicollinearity among independent variables. I can use Correlation Matrix to assess this."
   ]
  },
  {
   "cell_type": "code",
   "execution_count": 0,
   "metadata": {
    "application/vnd.databricks.v1+cell": {
     "cellMetadata": {
      "byteLimit": 2048000,
      "rowLimit": 10000
     },
     "inputWidgets": {},
     "nuid": "ddc2f62c-6c85-4b7b-addb-48b53fc11a45",
     "showTitle": false,
     "tableResultSettingsMap": {},
     "title": ""
    }
   },
   "outputs": [
    {
     "output_type": "display_data",
     "data": {
      "image/png": "[encoded data removed]",
      "text/plain": [
       "<Figure size 1200x800 with 2 Axes>"
      ]
     },
     "metadata": {},
     "output_type": "display_data"
    }
   ],
   "source": [
    "import matplotlib.pyplot as plt\n",
    "import seaborn as sns\n",
    "\n",
    "# Calculate the correlation matrix\n",
    "correlation_matrix = X.corr()\n",
    "\n",
    "\n",
    "# Set the size of the plot\n",
    "plt.figure(figsize=(11, 6))\n",
    "\n",
    "# Create a heatmap\n",
    "sns.heatmap(correlation_matrix, annot=True, fmt=\".2f\", cmap='coolwarm', square=True, linewidths=0.5)\n",
    "\n",
    "# Title and labels\n",
    "plt.title('Correlation Matrix')\n",
    "plt.show()"
   ]
  },
  {
   "cell_type": "code",
   "execution_count": 0,
   "metadata": {
    "application/vnd.databricks.v1+cell": {
     "cellMetadata": {
      "byteLimit": 2048000,
      "rowLimit": 10000
     },
     "inputWidgets": {},
     "nuid": "3ae653e5-ca4e-46b2-b83f-9a70555da62a",
     "showTitle": false,
     "tableResultSettingsMap": {},
     "title": ""
    }
   },
   "outputs": [],
   "source": [
    "#Drop rating column due to a correlation of 0.75 between it and rating_category_Very_High column\n",
    "X = X.drop(columns=['rating'])\n"
   ]
  },
  {
   "cell_type": "markdown",
   "metadata": {
    "application/vnd.databricks.v1+cell": {
     "cellMetadata": {
      "byteLimit": 2048000,
      "rowLimit": 10000
     },
     "inputWidgets": {},
     "nuid": "98b27ab0-a3dd-4dfc-876c-df261c774723",
     "showTitle": false,
     "tableResultSettingsMap": {},
     "title": ""
    }
   },
   "source": [
    "- Due to a correlation of `0.75` between `rating` and `rating_category_Very_High`, the `rating` column was removed. This step ensures that each feature offers unique information, reducing the likelihood of multicollinearity impacting the logistic regression model.\n",
    "\n",
    "- No Multicollinearity: `True`"
   ]
  },
  {
   "cell_type": "markdown",
   "metadata": {
    "application/vnd.databricks.v1+cell": {
     "cellMetadata": {
      "byteLimit": 2048000,
      "rowLimit": 10000
     },
     "inputWidgets": {},
     "nuid": "012a71fb-5b92-4b77-bf0c-b21599b29478",
     "showTitle": false,
     "tableResultSettingsMap": {},
     "title": ""
    }
   },
   "source": [
    "- Linearity of Independent Variables: `Not Needed`\n",
    "\n",
    "For logistic regression, we do not need a linear relationship between independent variables and the dependent variable."
   ]
  },
  {
   "cell_type": "markdown",
   "metadata": {
    "application/vnd.databricks.v1+cell": {
     "cellMetadata": {
      "byteLimit": 2048000,
      "rowLimit": 10000
     },
     "inputWidgets": {},
     "nuid": "5c54102b-4cb9-461a-8662-a8e3af443735",
     "showTitle": false,
     "tableResultSettingsMap": {},
     "title": ""
    }
   },
   "source": [
    "####5. Preparing the data"
   ]
  },
  {
   "cell_type": "markdown",
   "metadata": {
    "application/vnd.databricks.v1+cell": {
     "cellMetadata": {
      "byteLimit": 2048000,
      "rowLimit": 10000
     },
     "inputWidgets": {},
     "nuid": "bc037f93-9741-4850-9166-ea08ecc7ec21",
     "showTitle": false,
     "tableResultSettingsMap": {},
     "title": ""
    }
   },
   "source": [
    "**1. Checking if the target variable is imbalanced**\n",
    "- Ensuring the model does not bias towards the majority class."
   ]
  },
  {
   "cell_type": "code",
   "execution_count": 0,
   "metadata": {
    "application/vnd.databricks.v1+cell": {
     "cellMetadata": {
      "byteLimit": 2048000,
      "rowLimit": 10000
     },
     "inputWidgets": {},
     "nuid": "53e09422-bc92-42bd-b7a8-4dd72d8b4bfc",
     "showTitle": false,
     "tableResultSettingsMap": {},
     "title": ""
    }
   },
   "outputs": [
    {
     "output_type": "execute_result",
     "data": {
      "text/plain": [
       "1    0.504514\n",
       "0    0.495486\n",
       "Name: in_demand, dtype: float64"
      ]
     },
     "execution_count": 129,
     "metadata": {},
     "output_type": "execute_result"
    }
   ],
   "source": [
    "y.value_counts(normalize= True)"
   ]
  },
  {
   "cell_type": "markdown",
   "metadata": {
    "application/vnd.databricks.v1+cell": {
     "cellMetadata": {
      "byteLimit": 2048000,
      "rowLimit": 10000
     },
     "inputWidgets": {},
     "nuid": "e82e35db-f737-462b-a7a0-0f31ef1206a6",
     "showTitle": false,
     "tableResultSettingsMap": {},
     "title": ""
    }
   },
   "source": [
    "- The data is balanced there is no need to `stratify`"
   ]
  },
  {
   "cell_type": "markdown",
   "metadata": {
    "application/vnd.databricks.v1+cell": {
     "cellMetadata": {
      "byteLimit": 2048000,
      "rowLimit": 10000
     },
     "inputWidgets": {},
     "nuid": "1f17a859-8e34-4f98-980e-784c75717169",
     "showTitle": false,
     "tableResultSettingsMap": {},
     "title": ""
    }
   },
   "source": [
    "**2. Train-Test Split**\n",
    "- Splitting the data into training set and testing set (`20%` of the data)"
   ]
  },
  {
   "cell_type": "code",
   "execution_count": 0,
   "metadata": {
    "application/vnd.databricks.v1+cell": {
     "cellMetadata": {
      "byteLimit": 2048000,
      "rowLimit": 10000
     },
     "inputWidgets": {},
     "nuid": "c6388804-a4c3-44df-853b-ea6b6d148865",
     "showTitle": false,
     "tableResultSettingsMap": {},
     "title": ""
    }
   },
   "outputs": [],
   "source": [
    "from sklearn.model_selection import train_test_split\n",
    "\n",
    "X_train, X_test, y_train, y_test = train_test_split(X, y, test_size=0.2, random_state=42)\n"
   ]
  },
  {
   "cell_type": "markdown",
   "metadata": {
    "application/vnd.databricks.v1+cell": {
     "cellMetadata": {
      "byteLimit": 2048000,
      "rowLimit": 10000
     },
     "inputWidgets": {},
     "nuid": "832d095b-baee-4295-ba17-78ba6d019e7d",
     "showTitle": false,
     "tableResultSettingsMap": {},
     "title": ""
    }
   },
   "source": [
    "**3. Standardization**\n",
    "\n",
    "- Price: Being an integer value (e.g., dollars), prices can range widely depending on the product, and they may have high variability (from $1 to $1000+).\n",
    "\n",
    "- Rating: This is a float value that typically ranges from 1 to 5. The scale is much narrower compared to price."
   ]
  },
  {
   "cell_type": "code",
   "execution_count": 0,
   "metadata": {
    "application/vnd.databricks.v1+cell": {
     "cellMetadata": {
      "byteLimit": 2048000,
      "rowLimit": 10000
     },
     "inputWidgets": {},
     "nuid": "b5395bae-7f7f-4dcf-85e0-28e7ecb60cb1",
     "showTitle": false,
     "tableResultSettingsMap": {},
     "title": ""
    }
   },
   "outputs": [],
   "source": [
    "from sklearn.preprocessing import StandardScaler\n",
    "\n",
    "#Z-Score Normalization\n",
    "scaler = StandardScaler()\n",
    "\n",
    "# Fit the scaler on the training data\n",
    "X_train_scaled = scaler.fit_transform(X_train)\n",
    "\n",
    "# Transform the test data\n",
    "X_test_scaled = scaler.transform(X_test)"
   ]
  },
  {
   "cell_type": "markdown",
   "metadata": {
    "application/vnd.databricks.v1+cell": {
     "cellMetadata": {
      "byteLimit": 2048000,
      "rowLimit": 10000
     },
     "inputWidgets": {},
     "nuid": "a5312a1e-af3e-4263-a2d5-dd770b48df2b",
     "showTitle": false,
     "tableResultSettingsMap": {},
     "title": ""
    }
   },
   "source": [
    "###6. Fitting the Logistic Regression Model"
   ]
  },
  {
   "cell_type": "code",
   "execution_count": 0,
   "metadata": {
    "application/vnd.databricks.v1+cell": {
     "cellMetadata": {
      "byteLimit": 2048000,
      "rowLimit": 10000
     },
     "inputWidgets": {},
     "nuid": "8fb01367-ce1b-4524-9562-e8421522adfd",
     "showTitle": false,
     "tableResultSettingsMap": {},
     "title": ""
    }
   },
   "outputs": [
    {
     "output_type": "display_data",
     "data": {
      "application/vnd.jupyter.widget-view+json": {
       "model_id": "a7861c01e7ba4ca29adcc7d6e2518956",
       "version_major": 2,
       "version_minor": 0
      },
      "text/plain": [
       "Uploading artifacts:   0%|          | 0/3 [00:00<?, ?it/s]"
      ]
     },
     "metadata": {},
     "output_type": "display_data"
    },
    {
     "output_type": "display_data",
     "data": {
      "application/vnd.jupyter.widget-view+json": {
       "model_id": "3285aaf4b4f340f2876d18e8a4c45562",
       "version_major": 2,
       "version_minor": 0
      },
      "text/plain": [
       "Uploading artifacts:   0%|          | 0/9 [00:00<?, ?it/s]"
      ]
     },
     "metadata": {},
     "output_type": "display_data"
    },
    {
     "output_type": "execute_result",
     "data": {
      "text/html": [
       "<style>#sk-container-id-14 {color: black;}#sk-container-id-14 pre{padding: 0;}#sk-container-id-14 div.sk-toggleable {background-color: white;}#sk-container-id-14 label.sk-toggleable__label {cursor: pointer;display: block;width: 100%;margin-bottom: 0;padding: 0.3em;box-sizing: border-box;text-align: center;}#sk-container-id-14 label.sk-toggleable__label-arrow:before {content: \"▸\";float: left;margin-right: 0.25em;color: #696969;}#sk-container-id-14 label.sk-toggleable__label-arrow:hover:before {color: black;}#sk-container-id-14 div.sk-estimator:hover label.sk-toggleable__label-arrow:before {color: black;}#sk-container-id-14 div.sk-toggleable__content {max-height: 0;max-width: 0;overflow: hidden;text-align: left;background-color: #f0f8ff;}#sk-container-id-14 div.sk-toggleable__content pre {margin: 0.2em;color: black;border-radius: 0.25em;background-color: #f0f8ff;}#sk-container-id-14 input.sk-toggleable__control:checked~div.sk-toggleable__content {max-height: 200px;max-width: 100%;overflow: auto;}#sk-container-id-14 input.sk-toggleable__control:checked~label.sk-toggleable__label-arrow:before {content: \"▾\";}#sk-container-id-14 div.sk-estimator input.sk-toggleable__control:checked~label.sk-toggleable__label {background-color: #d4ebff;}#sk-container-id-14 div.sk-label input.sk-toggleable__control:checked~label.sk-toggleable__label {background-color: #d4ebff;}#sk-container-id-14 input.sk-hidden--visually {border: 0;clip: rect(1px 1px 1px 1px);clip: rect(1px, 1px, 1px, 1px);height: 1px;margin: -1px;overflow: hidden;padding: 0;position: absolute;width: 1px;}#sk-container-id-14 div.sk-estimator {font-family: monospace;background-color: #f0f8ff;border: 1px dotted black;border-radius: 0.25em;box-sizing: border-box;margin-bottom: 0.5em;}#sk-container-id-14 div.sk-estimator:hover {background-color: #d4ebff;}#sk-container-id-14 div.sk-parallel-item::after {content: \"\";width: 100%;border-bottom: 1px solid gray;flex-grow: 1;}#sk-container-id-14 div.sk-label:hover label.sk-toggleable__label {background-color: #d4ebff;}#sk-container-id-14 div.sk-serial::before {content: \"\";position: absolute;border-left: 1px solid gray;box-sizing: border-box;top: 0;bottom: 0;left: 50%;z-index: 0;}#sk-container-id-14 div.sk-serial {display: flex;flex-direction: column;align-items: center;background-color: white;padding-right: 0.2em;padding-left: 0.2em;position: relative;}#sk-container-id-14 div.sk-item {position: relative;z-index: 1;}#sk-container-id-14 div.sk-parallel {display: flex;align-items: stretch;justify-content: center;background-color: white;position: relative;}#sk-container-id-14 div.sk-item::before, #sk-container-id-14 div.sk-parallel-item::before {content: \"\";position: absolute;border-left: 1px solid gray;box-sizing: border-box;top: 0;bottom: 0;left: 50%;z-index: -1;}#sk-container-id-14 div.sk-parallel-item {display: flex;flex-direction: column;z-index: 1;position: relative;background-color: white;}#sk-container-id-14 div.sk-parallel-item:first-child::after {align-self: flex-end;width: 50%;}#sk-container-id-14 div.sk-parallel-item:last-child::after {align-self: flex-start;width: 50%;}#sk-container-id-14 div.sk-parallel-item:only-child::after {width: 0;}#sk-container-id-14 div.sk-dashed-wrapped {border: 1px dashed gray;margin: 0 0.4em 0.5em 0.4em;box-sizing: border-box;padding-bottom: 0.4em;background-color: white;}#sk-container-id-14 div.sk-label label {font-family: monospace;font-weight: bold;display: inline-block;line-height: 1.2em;}#sk-container-id-14 div.sk-label-container {text-align: center;}#sk-container-id-14 div.sk-container {/* jupyter's `normalize.less` sets `[hidden] { display: none; }` but bootstrap.min.css set `[hidden] { display: none !important; }` so we also need the `!important` here to be able to override the default hidden behavior on the sphinx rendered scikit-learn.org. See: https://github.com/scikit-learn/scikit-learn/issues/21755 */display: inline-block !important;position: relative;}#sk-container-id-14 div.sk-text-repr-fallback {display: none;}</style><div id=\"sk-container-id-14\" class=\"sk-top-container\"><div class=\"sk-text-repr-fallback\"><pre>LogisticRegression()</pre><b>In a Jupyter environment, please rerun this cell to show the HTML representation or trust the notebook. <br />On GitHub, the HTML representation is unable to render, please try loading this page with nbviewer.org.</b></div><div class=\"sk-container\" hidden><div class=\"sk-item\"><div class=\"sk-estimator sk-toggleable\"><input class=\"sk-toggleable__control sk-hidden--visually\" id=\"sk-estimator-id-14\" type=\"checkbox\" checked><label for=\"sk-estimator-id-14\" class=\"sk-toggleable__label sk-toggleable__label-arrow\">LogisticRegression</label><div class=\"sk-toggleable__content\"><pre>LogisticRegression()</pre></div></div></div></div></div>"
      ],
      "text/plain": [
       "LogisticRegression()"
      ]
     },
     "execution_count": 132,
     "metadata": {},
     "output_type": "execute_result"
    }
   ],
   "source": [
    "from sklearn.linear_model import LogisticRegression\n",
    "\n",
    "# Initialize the model\n",
    "logistic_model = LogisticRegression()\n",
    "\n",
    "# Fit the model on the standardized training data\n",
    "logistic_model.fit(X_train_scaled, y_train)\n"
   ]
  },
  {
   "cell_type": "markdown",
   "metadata": {
    "application/vnd.databricks.v1+cell": {
     "cellMetadata": {
      "byteLimit": 2048000,
      "rowLimit": 10000
     },
     "inputWidgets": {},
     "nuid": "57281ad6-fb0f-460a-ba24-0d7820e3a5a4",
     "showTitle": false,
     "tableResultSettingsMap": {},
     "title": ""
    }
   },
   "source": [
    "####7. Making Predictions"
   ]
  },
  {
   "cell_type": "code",
   "execution_count": 0,
   "metadata": {
    "application/vnd.databricks.v1+cell": {
     "cellMetadata": {
      "byteLimit": 2048000,
      "rowLimit": 10000
     },
     "inputWidgets": {},
     "nuid": "4a18b778-041c-4bc0-a3df-19d9ce902f42",
     "showTitle": false,
     "tableResultSettingsMap": {},
     "title": ""
    }
   },
   "outputs": [],
   "source": [
    "# Predict class labels\n",
    "y_pred = logistic_model.predict(X_test_scaled)\n",
    "\n",
    "# Predict probabilities\n",
    "y_pred_proba = logistic_model.predict_proba(X_test_scaled)[:, 1]  # Probability of class 1\n"
   ]
  },
  {
   "cell_type": "markdown",
   "metadata": {
    "application/vnd.databricks.v1+cell": {
     "cellMetadata": {
      "byteLimit": 2048000,
      "rowLimit": 10000
     },
     "inputWidgets": {},
     "nuid": "6948a610-97dc-4c04-8fb4-5d2e542a1580",
     "showTitle": false,
     "tableResultSettingsMap": {},
     "title": ""
    }
   },
   "source": [
    "####8. Evaluating the Model "
   ]
  },
  {
   "cell_type": "code",
   "execution_count": 0,
   "metadata": {
    "application/vnd.databricks.v1+cell": {
     "cellMetadata": {
      "byteLimit": 2048000,
      "rowLimit": 10000
     },
     "inputWidgets": {},
     "nuid": "6b763fbb-578c-4f70-9070-c6750c3a9cf2",
     "showTitle": false,
     "tableResultSettingsMap": {},
     "title": ""
    }
   },
   "outputs": [
    {
     "output_type": "stream",
     "name": "stdout",
     "output_type": "stream",
     "text": [
      "Confusion Matrix:\n [[ 89   0]\n [  4 107]]\nClassification Report:\n               precision    recall  f1-score   support\n\n           0       0.96      1.00      0.98        89\n           1       1.00      0.96      0.98       111\n\n    accuracy                           0.98       200\n   macro avg       0.98      0.98      0.98       200\nweighted avg       0.98      0.98      0.98       200\n\nROC AUC Score: 0.9957485575463103\n"
     ]
    }
   ],
   "source": [
    "from sklearn.metrics import classification_report, confusion_matrix, roc_auc_score\n",
    "\n",
    "# Confusion Matrix\n",
    "conf_matrix = confusion_matrix(y_test, y_pred)\n",
    "print(\"Confusion Matrix:\\n\", conf_matrix)\n",
    "\n",
    "# Classification Report\n",
    "class_report = classification_report(y_test, y_pred)\n",
    "print(\"Classification Report:\\n\", class_report)\n",
    "\n",
    "# ROC AUC Score\n",
    "roc_auc = roc_auc_score(y_test, y_pred_proba)\n",
    "print(\"ROC AUC Score:\", roc_auc)"
   ]
  },
  {
   "cell_type": "markdown",
   "metadata": {
    "application/vnd.databricks.v1+cell": {
     "cellMetadata": {
      "byteLimit": 2048000,
      "rowLimit": 10000
     },
     "inputWidgets": {},
     "nuid": "c9550fb8-e042-48fc-abee-c751d96efd48",
     "showTitle": false,
     "tableResultSettingsMap": {},
     "title": ""
    }
   },
   "source": [
    "####9. Visualizing the Results"
   ]
  },
  {
   "cell_type": "markdown",
   "metadata": {
    "application/vnd.databricks.v1+cell": {
     "cellMetadata": {
      "byteLimit": 2048000,
      "rowLimit": 10000
     },
     "inputWidgets": {},
     "nuid": "8156069b-036b-4724-9382-acf1aba1b4c2",
     "showTitle": false,
     "tableResultSettingsMap": {},
     "title": ""
    }
   },
   "source": [
    "**1. ROC Curve**"
   ]
  },
  {
   "cell_type": "code",
   "execution_count": 0,
   "metadata": {
    "application/vnd.databricks.v1+cell": {
     "cellMetadata": {
      "byteLimit": 2048000,
      "rowLimit": 10000
     },
     "inputWidgets": {},
     "nuid": "479c7c79-46c5-4f74-a8f1-75911392d305",
     "showTitle": false,
     "tableResultSettingsMap": {},
     "title": ""
    }
   },
   "outputs": [
    {
     "output_type": "display_data",
     "data": {
      "image/png": "[encoded data removed]",
      "text/plain": [
       "<Figure size 640x480 with 1 Axes>"
      ]
     },
     "metadata": {},
     "output_type": "display_data"
    }
   ],
   "source": [
    "import matplotlib.pyplot as plt\n",
    "from sklearn.metrics import roc_curve, auc\n",
    "\n",
    "# Plot ROC curve\n",
    "fpr, tpr, thresholds = roc_curve(y_test, y_pred_proba)\n",
    "roc_auc = auc(fpr, tpr)\n",
    "\n",
    "plt.figure()\n",
    "plt.plot(fpr, tpr, color='blue', label='ROC curve (area = %0.2f)' % roc_auc)\n",
    "plt.plot([0, 1], [0, 1], color='red', linestyle='--')\n",
    "plt.xlim([0.0, 1.0])\n",
    "plt.ylim([0.0, 1.05])\n",
    "plt.xlabel('False Positive Rate')\n",
    "plt.ylabel('True Positive Rate')\n",
    "plt.title('Receiver Operating Characteristic')\n",
    "plt.legend(loc=\"lower right\")\n",
    "plt.show()\n"
   ]
  },
  {
   "cell_type": "markdown",
   "metadata": {
    "application/vnd.databricks.v1+cell": {
     "cellMetadata": {
      "byteLimit": 2048000,
      "rowLimit": 10000
     },
     "inputWidgets": {},
     "nuid": "72e0b82f-ae73-4d6f-86d9-d3fb3626c2a2",
     "showTitle": false,
     "tableResultSettingsMap": {},
     "title": ""
    }
   },
   "source": [
    "**2. Confusion Matrix**"
   ]
  },
  {
   "cell_type": "code",
   "execution_count": 0,
   "metadata": {
    "application/vnd.databricks.v1+cell": {
     "cellMetadata": {
      "byteLimit": 2048000,
      "rowLimit": 10000
     },
     "inputWidgets": {},
     "nuid": "2954c678-64b8-45bf-9428-b61cdbf6ff14",
     "showTitle": false,
     "tableResultSettingsMap": {},
     "title": ""
    }
   },
   "outputs": [
    {
     "output_type": "display_data",
     "data": {
      "image/png": "[encoded data removed]",
      "text/plain": [
       "<Figure size 800x600 with 1 Axes>"
      ]
     },
     "metadata": {},
     "output_type": "display_data"
    }
   ],
   "source": [
    "from sklearn.metrics import confusion_matrix\n",
    "\n",
    "# Assuming y_test and y_pred are already defined\n",
    "# Calculate the confusion matrix\n",
    "cm = confusion_matrix(y_test, y_pred)\n",
    "\n",
    "# Create a DataFrame for better visualization\n",
    "cm_df = pd.DataFrame(cm, index=['Not In Demand', 'In Demand'], columns=['Not In Demand', 'In Demand'])\n",
    "\n",
    "# Plotting the confusion matrix\n",
    "plt.figure(figsize=(8, 6))\n",
    "sns.heatmap(cm_df, annot=True, fmt='d', cmap='Blues', cbar=False)\n",
    "plt.title('Confusion Matrix')\n",
    "plt.ylabel('Actual')\n",
    "plt.xlabel('Predicted')\n",
    "plt.show()"
   ]
  },
  {
   "cell_type": "markdown",
   "metadata": {
    "application/vnd.databricks.v1+cell": {
     "cellMetadata": {
      "byteLimit": 2048000,
      "rowLimit": 10000
     },
     "inputWidgets": {},
     "nuid": "b02736ad-e8ea-46f1-8f81-87f11934064d",
     "showTitle": false,
     "tableResultSettingsMap": {},
     "title": ""
    }
   },
   "source": [
    "####10. Interpretting the Results"
   ]
  },
  {
   "cell_type": "code",
   "execution_count": 0,
   "metadata": {
    "application/vnd.databricks.v1+cell": {
     "cellMetadata": {
      "byteLimit": 2048000,
      "rowLimit": 10000
     },
     "inputWidgets": {},
     "nuid": "38a155de-3685-4330-82ee-49d3460eda28",
     "showTitle": false,
     "tableResultSettingsMap": {},
     "title": ""
    }
   },
   "outputs": [
    {
     "output_type": "execute_result",
     "data": {
      "text/html": [
       "<div>\n",
       "<style scoped>\n",
       "    .dataframe tbody tr th:only-of-type {\n",
       "        vertical-align: middle;\n",
       "    }\n",
       "\n",
       "    .dataframe tbody tr th {\n",
       "        vertical-align: top;\n",
       "    }\n",
       "\n",
       "    .dataframe thead th {\n",
       "        text-align: right;\n",
       "    }\n",
       "</style>\n",
       "<table border=\"1\" class=\"dataframe\">\n",
       "  <thead>\n",
       "    <tr style=\"text-align: right;\">\n",
       "      <th></th>\n",
       "      <th>price</th>\n",
       "      <th>category_Clothing</th>\n",
       "      <th>category_Electronics</th>\n",
       "      <th>category_Home</th>\n",
       "      <th>category_Toys</th>\n",
       "      <th>rating_category_Medium</th>\n",
       "      <th>rating_category_High</th>\n",
       "      <th>rating_category_Very_High</th>\n",
       "    </tr>\n",
       "  </thead>\n",
       "  <tbody>\n",
       "    <tr>\n",
       "      <th>Coefficient</th>\n",
       "      <td>0.019344</td>\n",
       "      <td>-0.04378</td>\n",
       "      <td>-0.040935</td>\n",
       "      <td>-0.424593</td>\n",
       "      <td>-0.387173</td>\n",
       "      <td>0.776089</td>\n",
       "      <td>3.864157</td>\n",
       "      <td>3.793168</td>\n",
       "    </tr>\n",
       "  </tbody>\n",
       "</table>\n",
       "</div>"
      ],
      "text/plain": [
       "                price  ...  rating_category_Very_High\n",
       "Coefficient  0.019344  ...                   3.793168\n",
       "\n",
       "[1 rows x 8 columns]"
      ]
     },
     "execution_count": 137,
     "metadata": {},
     "output_type": "execute_result"
    }
   ],
   "source": [
    "# Coefficients\n",
    "coefficients = pd.DataFrame(logistic_model.coef_, columns=X.columns, index=['Coefficient'])\n",
    "coefficients\n"
   ]
  },
  {
   "cell_type": "markdown",
   "metadata": {
    "application/vnd.databricks.v1+cell": {
     "cellMetadata": {
      "byteLimit": 2048000,
      "rowLimit": 10000
     },
     "inputWidgets": {},
     "nuid": "7771dc06-f902-457d-af72-50ac6a326c50",
     "showTitle": false,
     "tableResultSettingsMap": {},
     "title": ""
    }
   },
   "source": [
    "#### interpretation of Logistic Regression Coefficients and Odds Ratios\n",
    "\n",
    "The following coefficients represent the relationship between each feature and the likelihood of a product being classified as \"in demand\" (i.e., having a rating of 3 or above):\n",
    "\n",
    "- **Price (0.019344)**: \n",
    "  - For each additional dollar increase in price, the log-odds of a product being classified as \"in demand\" increases by approximately `0.0193`.\n",
    "  - **Odds Ratio**: \n",
    "  $$\n",
    "  e^{0.019344} \\approx 1.0195\n",
    "  $$\n",
    "  - This indicates that for every dollar increase in price, the odds of the product being classified as \"in demand\" increase by about `1.95%`.\n",
    "\n",
    "- **Category_Clothing (-0.04378)**: \n",
    "  - Being in the Clothing category slightly reduces the log-odds of being \"in demand\" by `0.0438`.\n",
    "  - **Odds Ratio**: \n",
    "  $$\n",
    "  e^{-0.04378} \\approx 0.957\n",
    "  $$\n",
    "  - This suggests that products in the Clothing category have about `4.3%` lower odds of being classified as \"in demand\" compared to the baseline category.\n",
    "\n",
    "- **Category_Electronics (-0.040935)**: \n",
    "  - Being in the Electronics category has a slight negative effect on the log-odds of being \"in demand,\" with a change of `0.041`.\n",
    "  - **Odds Ratio**: \n",
    "  $$\n",
    "  e^{-0.040935} \\approx 0.960\n",
    "  $$\n",
    "  - This indicates that products in the Electronics category have about `4%` lower odds of being \"in demand.\"\n",
    "\n",
    "- **Category_Home (-0.424593)**: \n",
    "  - The Home category shows a negative effect on demand classification, reducing the log-odds by `0.425`.\n",
    "  - **Odds Ratio**: \n",
    "  $$\n",
    "  e^{-0.424593} \\approx 0.654\n",
    "  $$\n",
    "  - Products in the Home category have approximately `34.6%` lower odds of being classified as \"in demand.\"\n",
    "\n",
    "- **Category_Toys (-0.387173)**: \n",
    "  - The Toys category also negatively affects the demand classification, decreasing the log-odds by `0.387`.\n",
    "  - **Odds Ratio**: \n",
    "  $$\n",
    "  e^{-0.387173} \\approx 0.679\n",
    "  $$\n",
    "  - Products in the Toys category have about `32.1%` lower odds of being classified as \"in demand.\"\n",
    "\n",
    "- **Rating_Category_Medium (0.776089)**: \n",
    "  - Being in the medium rating category increases the log-odds of a product being \"in demand\" by `0.776`.\n",
    "  - **Odds Ratio**: \n",
    "  $$\n",
    "  e^{0.776089} \\approx 2.173\n",
    "  $$\n",
    "  - Medium-rated products are approximately `2.17` times more likely to be classified as \"in demand\" compared to the baseline low rating category.\n",
    "\n",
    "- **Rating_Category_High (3.864157)**: \n",
    "  - Being in the high rating category significantly boosts the log-odds of being \"in demand\" by `3.864`.\n",
    "  - **Odds Ratio**: \n",
    "  $$\n",
    "  e^{3.864157} \\approx 47.6\n",
    "  $$\n",
    "  - High-rated products are around `47.6` times more likely to be classified as \"in demand\" compared to low-rated products.\n",
    "\n",
    "- **Rating_Category_Very_High (3.793168)**: \n",
    "  - The Very High rating category also shows a strong positive relationship, increasing the log-odds of being \"in demand\" by `3.793`.\n",
    "  - **Odds Ratio**: \n",
    "  $$\n",
    "  e^{3.793168} \\approx 44.40\n",
    "  $$\n",
    "  - Products in the Very High rating category are approximately `44.40` times more likely to be classified as \"in demand\" compared to the low rating category.\n",
    "\n",
    "#### Confusion Matrix Interpretation\n",
    "\n",
    "The confusion matrix results are as follows:\n",
    "\n",
    "- **True Positives (TP)**: `107`\n",
    "  - This indicates that `107` instances were correctly predicted as \"in demand\" (i.e., they were actually rated `3` or above).\n",
    "\n",
    "- **False Positives (FP)**: `0`\n",
    "  - There were no instances incorrectly predicted as \"in demand,\" meaning that none of the products predicted to be in demand actually had a rating below `3`.\n",
    "\n",
    "- **True Negatives (TN)**: `89`\n",
    "  - This indicates that `89` instances were correctly predicted as not being \"in demand\" (i.e., they had ratings below `3`).\n",
    "\n",
    "- **False Negatives (FN)**: `4`\n",
    "  - This means that `4` instances that were actually \"in demand\" were incorrectly predicted as not being in demand.\n",
    "\n",
    "### Summary of Performance Metrics\n",
    "\n",
    "Based on these values, we can calculate the following performance metrics:\n",
    "\n",
    "- **Accuracy**:\n",
    "  $$\n",
    "  \\text{Accuracy} = \\frac{TP + TN}{TP + TN + FP + FN} = \\frac{107 + 89}{107 + 89 + 0 + 4} = \\frac{196}{200} = 0.98\n",
    "  $$\n",
    "  The model has an accuracy of 98%, indicating that it correctly classified 98% of the instances.\n",
    "\n",
    "- **Precision**:\n",
    "  $$\n",
    "  \\text{Precision} = \\frac{TP}{TP + FP} = \\frac{107}{107 + 0} = 1.0\n",
    "  $$\n",
    "  The model has a precision of 100%, meaning that all products predicted as \"in demand\" were indeed in demand.\n",
    "\n",
    "- **Recall**:\n",
    "  $$\n",
    "  \\text{Recall} = \\frac{TP}{TP + FN} = \\frac{107}{107 + 4} = \\frac{107}{111} \\approx 0.964\n",
    "  $$\n",
    "  The model has a recall of approximately 96.4%, indicating that it correctly identified 96.4% of the actual \"in demand\" products.\n",
    "\n",
    "- **F1 Score**:\n",
    "  $$\n",
    "  \\text{F1 Score} = 2 \\cdot \\frac{\\text{Precision} \\cdot \\text{Recall}}{\\text{Precision} + \\text{Recall}} = 2 \\cdot \\frac{1.0 \\cdot 0.964}{1.0 + 0.964} \\approx 0.981\n",
    "  $$\n",
    "  The F1 Score is approximately 98.1%, providing a strong balance between precision and recall.\n"
   ]
  },
  {
   "cell_type": "markdown",
   "metadata": {
    "application/vnd.databricks.v1+cell": {
     "cellMetadata": {
      "byteLimit": 2048000,
      "rowLimit": 10000
     },
     "inputWidgets": {},
     "nuid": "bd966a96-90a1-4783-a4c4-75e05895f8e2",
     "showTitle": false,
     "tableResultSettingsMap": {},
     "title": ""
    }
   },
   "source": [
    "### Conclusion\n",
    "\n",
    "This analysis of the catalog data has yielded valuable insights into the factors influencing product demand within our e-commerce platform. The logistic regression model highlighted that various features significantly impact the likelihood of a product being classified as \"in demand.\" \n",
    "\n",
    "Overall, the coefficients and their corresponding odds ratios provide insight into how different factors influence demand. Notably, higher product ratings have a substantial positive impact, increasing the likelihood of demand significantly. Conversely, certain categories may negatively influence demand, emphasizing the need for strategic management of these factors.\n",
    "\n",
    "The performance of the logistic regression model was exceptional, as indicated by the confusion matrix metrics. With an accuracy of 98%, along with perfect precision and a recall rate of approximately 96.4%, the model demonstrates a high level of reliability in predicting which products are likely to be in demand. The absence of false positives further underscores the model’s effectiveness, allowing stakeholders to make informed decisions based on these insights.\n",
    "\n",
    "In conclusion, by focusing on improving product ratings, and managing category performance, the company can enhance its product offerings and drive business growth in a competitive e-commerce landscape.\n",
    "\n",
    "\n",
    "### Key Insights\n",
    "\n",
    "1. **Significant Role of Ratings**:\n",
    "   - Product ratings are the most influential factor in determining demand. Specifically, a one-point increase in the rating category ( moving from Low to Medium or Medium to High) increases the log-odds of being classified as \"in demand\" by approximately 3.8 times (for Very High ratings). This underscores the importance of focusing on customer satisfaction and quality control to enhance ratings.\n",
    "\n",
    "2. **Pricing Impact**:\n",
    "   - A one standard deviation increase in product price results in a `1.95%` increase in the log-odds of a product being classified as \"in demand.\" This highlights the importance of effective pricing strategies, which must be thoughtfully managed to avoid discouraging potential buyers.\n",
    "\n",
    "3. **Category-Specific Trends**:\n",
    "\n",
    "   - The negative coefficients for all categories indicate that these categories perform worse in terms of demand compared to the Books category. This suggests that products categorized as Books are more appealing or have better market performance in driving demand than the other categories analyzed.\n",
    "\n",
    "   - Products in the **Electronics** category have a slightly negative effect on demand, whereas categories such as **Clothing**, **Home**, and **Toys** negatively impact demand. This indicates a need for targeted category management strategies to enhance the performance of underperforming categories.\n",
    "\n",
    "4. **High Precision and Reliability of the Model**:\n",
    "   - The logistic regression model achieved an accuracy of 98%, with a precision of 100% and a recall of approximately 96.4%. This reflects the model's robustness in predicting product demand, allowing for confident decision-making based on its insights.\n",
    "\n",
    "5. **Actionable Insights for Marketing and Product Strategy**:\n",
    "   - To optimize marketing and product strategy, businesses should enhance product quality and customer satisfaction to improve ratings, particularly targeting Very High ratings that significantly boost demand. Reevaluating pricing strategies is essential to stay competitive and avoid deterring potential buyers. Additionally, targeted marketing efforts should be developed for underperforming categories like Clothing, Home, and Toys, leveraging predictive insights from models to inform inventory management and maximize demand.\n",
    "\n",
    "6. **Continuous Monitoring Required**:\n",
    "   - The model's findings suggest a dynamic market environment; thus, continuous monitoring of product performance and customer feedback is essential. Regular updates to marketing strategies will help maintain competitiveness and responsiveness to consumer preferences.\n",
    "\n",
    "These key insights provide a comprehensive understanding of the factors influencing product demand and serve as a foundation for strategic decision-making.\n"
   ]
  },
  {
   "cell_type": "markdown",
   "metadata": {
    "application/vnd.databricks.v1+cell": {
     "cellMetadata": {
      "byteLimit": 2048000,
      "rowLimit": 10000
     },
     "inputWidgets": {},
     "nuid": "3d0ea048-d5d0-4c60-84ca-8ca06fda3665",
     "showTitle": false,
     "tableResultSettingsMap": {},
     "title": ""
    }
   },
   "source": [
    "### Summary for Stakeholders\n",
    "\n",
    "Our analysis of the catalog data using logistic regression has revealed important insights regarding the factors influencing product demand:\n",
    "\n",
    "- **Price**: For each standard deviation increase in the standardized price, the odds of a product being classified as \"in demand\" increase by approximately **1.95%** (odds ratio of **1.019**). This indicates a slight positive relationship, suggesting that pricing strategies should be carefully considered to avoid negatively impacting demand.\n",
    "\n",
    "- **Category Effects**:\n",
    "  - **Books**:\n",
    "  Since the \"Books\" category is the baseline (with an implicit coefficient of 0), it represents the reference point for comparison with the other categories. Products in the Books category are considered to have the standard likelihood of being classified as \"in demand.\"\n",
    "  \n",
    "  - **Clothing**: Products in the Clothing category have about **4.3%** lower odds of being classified as \"in demand\" (odds ratio of **0.957**). This finding indicates a need for improved product offerings or targeted marketing strategies to boost performance in this category.\n",
    "  - **Electronics**: Products in the Electronics category exhibit about **4%** lower odds of being classified as \"in demand\" (odds ratio of **0.960**). Targeted marketing efforts could help enhance demand for these products.\n",
    "  - **Home**: Products in the Home category have approximately **34.6%** lower odds of being classified as \"in demand\" (odds ratio of **0.654**). This substantial negative effect warrants immediate attention and strategic intervention to improve performance.\n",
    "  - **Toys**: The odds for products in the Toys category are about **32.1%** lower (odds ratio of **0.679**), indicating the need for further investigation and strategy refinement to address demand challenges.\n",
    "\n",
    "- **Rating Categories**:\n",
    "  - **Medium Rating**: Products rated as Medium are approximately **2.17 times** more likely to be classified as \"in demand\" compared to low-rated products (odds ratio of **2.173**). This underscores the importance of maintaining competitive quality.\n",
    "  - **High Rating**: Products with High ratings are around **47.6 times** more likely to be classified as \"in demand\" (odds ratio of **47.6**), emphasizing the critical role of customer satisfaction and quality control.\n",
    "  - **Very High Rating**: Products in the Very High rating category are approximately **44.40 times** more likely to be classified as \"in demand\" (odds ratio of **44.40**), indicating that high-quality offerings strongly influence customer preferences.\n",
    "\n",
    "### Recommendations\n",
    "\n",
    "1. **Pricing Strategy**:\n",
    "   - Given the positive relationship between standardized price and demand odds (1.019), consider implementing incremental pricing strategies that maximize revenue while being mindful of customer perception and demand.\n",
    "\n",
    "2. **Category Management**:\n",
    "\n",
    "   - **Focus on Books**: Given that Books are more likely to be in demand, it may be beneficial to promote this category further or      expand the product offerings within it.\n",
    "\n",
    "   - **Clothing and Electronics**: Conduct thorough market research to understand consumer preferences and enhance product offerings or marketing efforts in these categories. Consider targeted promotions to stimulate demand.\n",
    "   - **Home and Toys**: Due to their significantly lower odds (0.654 and 0.679, respectively), reassess product assortments in these categories. Explore customer feedback to identify areas for improvement and potential product introductions.\n",
    "\n",
    "3. **Enhance Product Ratings**:\n",
    "   - Implement quality control measures to boost product ratings. Encourage customers to provide feedback and reviews, particularly for high-impact categories. Consider loyalty incentives for positive customer engagement.\n",
    "\n",
    "4. **Targeted Marketing**:\n",
    "   - Develop marketing campaigns that focus on high-rated products, especially in the High and Very High rating categories, to leverage their strong influence on demand.\n",
    "\n",
    "5. **Ongoing Monitoring**:\n",
    "   - Continuously monitor product performance and customer feedback to adapt strategies proactively. Regularly update pricing and marketing tactics based on real-time insights and market dynamics.\n",
    "\n",
    "By implementing these recommendations, the company can effectively enhance product demand, improve customer satisfaction, and drive overall business growth.\n"
   ]
  }
 ],
 "metadata": {
  "application/vnd.databricks.v1+notebook": {
   "dashboards": [],
   "environmentMetadata": null,
   "language": "python",
   "notebookMetadata": {
    "pythonIndentUnit": 4
   },
   "notebookName": "6. Logistic Regression Analysis on E-commerce Data",
   "widgets": {}
  }
 },
 "nbformat": 4,
 "nbformat_minor": 0
}
